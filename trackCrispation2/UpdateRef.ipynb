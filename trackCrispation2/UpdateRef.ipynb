{
 "cells": [
  {
   "cell_type": "code",
   "execution_count": 91,
   "metadata": {},
   "outputs": [],
   "source": [
    "import pandas as pd\n",
    "import json\n",
    "import pickle\n",
    "import os\n",
    "import itertools\n",
    "from ast import literal_eval\n",
    "import numpy as np\n",
    "import sys\n",
    "from datetime import datetime\n",
    "from IPython.display import clear_output, display\n",
    "import subprocess\n",
    "from datetime import datetime\n",
    "pd.options.display.float_format = '{:.0f}'.format"
   ]
  },
  {
   "cell_type": "code",
   "execution_count": 92,
   "metadata": {},
   "outputs": [],
   "source": [
    "def LoadJsonFile(filename): \n",
    "    with open(filename, 'r') as f:\n",
    "        DicConfig = json.load(f)\n",
    "    return DicConfig\n",
    "\n",
    "\n",
    "def GlobalDicDeplier(OneDic):\n",
    "    for k,v in OneDic.items():\n",
    "        exec('globals()[k] = v')\n",
    "    return None"
   ]
  },
  {
   "cell_type": "code",
   "execution_count": 93,
   "metadata": {},
   "outputs": [
    {
     "name": "stdout",
     "output_type": "stream",
     "text": [
      "Load Config variables\n"
     ]
    }
   ],
   "source": [
    "DicConfig = LoadJsonFile(os.path.join(os.getcwd(),\"config.json\"))\n",
    "GlobalDicDeplier(DicConfig)\n",
    "sys.path.append(Root)\n",
    "from fun import *\n",
    "\n",
    "print(\"Load Config variables\")"
   ]
  },
  {
   "cell_type": "code",
   "execution_count": null,
   "metadata": {},
   "outputs": [],
   "source": [
    "print(\"Load Data\")"
   ]
  },
  {
   "cell_type": "code",
   "execution_count": 94,
   "metadata": {},
   "outputs": [],
   "source": [
    "path = os.path.join(Root,FolderProject,\"ISdf.pkl\")\n",
    "ISdf = LoadPickleOrInit(path)\n",
    "\n",
    "path = os.path.join(Root,FolderProject,\"RefFam.pkl\")\n",
    "RefFam = LoadPickleOrInit(path)\n",
    "\n",
    "path = os.path.join(Root,FolderProject,\"RefRT.pkl\")\n",
    "RefRT = LoadPickleOrInit(path)"
   ]
  },
  {
   "cell_type": "code",
   "execution_count": 95,
   "metadata": {},
   "outputs": [],
   "source": [
    "if len(ISdf)>0:\n",
    "    \n",
    "    RefFamMemory = RetrieveSize(os.path.join(Root,FolderProject,\"RefFam.pkl\"))\n",
    "    RefRTMemory = RetrieveSize(os.path.join(Root,FolderProject,\"RefRT.pkl\"))\n",
    "    RefFamRows = len(RefFam)\n",
    "    RefRTRows = len(RefRT)\n",
    "\n",
    "    minbassine = ISdf.BassineID.min()\n",
    "    maxbassine = ISdf.BassineID.max()\n",
    "    print(\"Define Metaparameters\")"
   ]
  },
  {
   "cell_type": "markdown",
   "metadata": {},
   "source": [
    "# Build KeptTweets"
   ]
  },
  {
   "cell_type": "code",
   "execution_count": null,
   "metadata": {},
   "outputs": [],
   "source": [
    "if len(ISdf)>0:\n",
    "    print(\"Building Keep tweets\")\n",
    "    BassineID = RefFam.AUTHORTWEETUNIXEPOCH / bassine_size\n",
    "    RefFam[\"BassineID\"] = BassineID.astype(int)\n",
    "\n",
    "    RefFamKO = RefFam.copy()[RefFam.status==\"ko\"]\n",
    "    RefFamOK = RefFam.copy()[RefFam.status==\"ok\"]\n",
    "    RefRTKO = RefRT.copy()[RefRT.status==\"ko\"]\n",
    "    RefRTOK = RefRT.copy()[RefRT.status==\"ok\"]\n",
    "    RefRTKO.drop(columns=\"status\",inplace=True)\n",
    "\n",
    "    RefFamKORows = len(RefFamKO)\n",
    "    RefFamOKRows = len(RefFamOK)\n",
    "    RefRTKORows = len(RefRTKO)\n",
    "    RefRTOKRows = len(RefRTOK)"
   ]
  },
  {
   "cell_type": "markdown",
   "metadata": {},
   "source": [
    "# RefFam"
   ]
  },
  {
   "cell_type": "code",
   "execution_count": 100,
   "metadata": {},
   "outputs": [],
   "source": [
    "if len(ISdf)>0:\n",
    "    print(\"Building RefFam\")\n",
    "\n",
    "    RefFamKOa = RefFamKO.copy().merge(ISdf[\"AUTHORTWEETID\"],on=\"AUTHORTWEETID\")\n",
    "    RefFamKOb = RefFamKO.copy()[RefFamKO.BassineID>maxbassine]\n",
    "    RefFamKOa[\"status\"] = \"ok\"\n",
    "    RefFamKOb[\"status\"] = \"ko\"\n",
    "\n",
    "    RefFamKOaRows = len(RefFamKOa)\n",
    "    RefFamKObRows = len(RefFamKOb)\n",
    "    RefFamKOFinal = pd.concat([RefFamKOa,RefFamKOb],axis = 0, sort = True)\n",
    "    RefFamKOFinal.reset_index(drop=True,inplace=True)\n",
    "    RefFamTemp = pd.concat([RefFamKOFinal,RefFamOK],axis=0,sort=True)\n",
    "    RefFamKOFinalRows = len(RefFamKOFinal)\n",
    "    RefFamTempRows = len(RefFamTemp)\n",
    "    RefRTKO = RefRTKO.merge(RefFamKOFinal[[\"AUTHORTWEETID\",\"status\"]],on=\"AUTHORTWEETID\")\n",
    "    RefRTTemp = pd.concat([RefRTKO,RefRTOK],axis=0,sort=True)\n",
    "    RefRTTemp.reset_index(drop=True,inplace=True)\n",
    "    RefRTKORows = len(RefRTKO)\n",
    "    RefRTTempRows = len(RefRTTemp)\n",
    "    RefFamOKKODis = RefFamTemp.status.value_counts().tolist()\n",
    "    RefRTTOKKODis = RefRTTemp.status.value_counts().tolist()"
   ]
  },
  {
   "cell_type": "markdown",
   "metadata": {},
   "source": [
    "# Sauvegarde"
   ]
  },
  {
   "cell_type": "code",
   "execution_count": 107,
   "metadata": {},
   "outputs": [],
   "source": [
    "if len(ISdf)>0:\n",
    "    print(\"Sauvegarde\")\n",
    "    PickleDump(os.path.join(Root,FolderProject,\"RefFam.pkl\"),RefFamTemp)\n",
    "    PickleDump(os.path.join(Root,FolderProject,\"RefRT.pkl\"),RefRTTemp)"
   ]
  },
  {
   "cell_type": "markdown",
   "metadata": {},
   "source": [
    "# Logs"
   ]
  },
  {
   "cell_type": "code",
   "execution_count": 108,
   "metadata": {},
   "outputs": [],
   "source": [
    "if len(ISdf)>0:\n",
    "    RefRTTempMemory = RetrieveSize(os.path.join(Root,FolderProject,\"RefRT.pkl\"))\n",
    "    RefFamTempMemory = RetrieveSize(os.path.join(Root,FolderProject,\"RefFam.pkl\"))\n",
    "\n",
    "    UpLogs = {\"DateRun\" : GetCurrentTime(),\n",
    "    \"RefFamMemory\" : RefFamMemory,\n",
    "    \"RefRTMemory\" : RefRTMemory,\n",
    "    \"RefFamRows\" : FormatNumber(RefFamRows),\n",
    "    \"RefRTRows\"  : FormatNumber(RefRTRows),\n",
    "    \"minbassine\" : minbassine,\n",
    "    \"maxbassine\" : maxbassine,\n",
    "    \"RefFamKORows\"  : FormatNumber(RefFamKORows),\n",
    "    \"RefFamOKRows\"  : FormatNumber(RefFamOKRows),\n",
    "    \"RefRTKORows\"  : FormatNumber(RefRTKORows),\n",
    "    \"RefRTOKRows\"  : FormatNumber(RefRTOKRows),\n",
    "    \"RefFamKOaRows\"  : FormatNumber(RefFamKOaRows),\n",
    "    \"RefFamKObRows\"  : FormatNumber(RefFamKObRows),\n",
    "    \"RefFamKOFinalRows\" : FormatNumber(RefFamKOFinalRows),\n",
    "    \"RefFamTempRows\"  : FormatNumber(RefFamTempRows),\n",
    "    \"RefRTKORows\"  : FormatNumber(RefRTKORows),\n",
    "    \"RefRTTempRows\"  : FormatNumber(RefRTTempRows),\n",
    "    \"RefFamOKKODis\" : RefFamOKKODis,\n",
    "    \"RefRTTOKKODis\" : RefRTTOKKODis,\n",
    "    \"RefRTTempMemory\": RefRTTempMemory,\n",
    "    \"RefFamTempMemory\":RefFamTempMemory}\n",
    "\n",
    "\n",
    "    filename = os.path.join(Root,FolderProject,\"Up.log\")\n",
    "    AppendStringToFile(filename,UpLogs)\n",
    "    print(\"Write logs\")"
   ]
  },
  {
   "cell_type": "code",
   "execution_count": 109,
   "metadata": {},
   "outputs": [],
   "source": []
  },
  {
   "cell_type": "code",
   "execution_count": null,
   "metadata": {},
   "outputs": [],
   "source": []
  }
 ],
 "metadata": {
  "kernelspec": {
   "display_name": "twitter",
   "language": "python",
   "name": "twitter"
  },
  "language_info": {
   "codemirror_mode": {
    "name": "ipython",
    "version": 3
   },
   "file_extension": ".py",
   "mimetype": "text/x-python",
   "name": "python",
   "nbconvert_exporter": "python",
   "pygments_lexer": "ipython3",
   "version": "3.6.7"
  }
 },
 "nbformat": 4,
 "nbformat_minor": 2
}
