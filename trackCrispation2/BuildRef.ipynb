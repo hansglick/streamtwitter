{
 "cells": [
  {
   "cell_type": "markdown",
   "metadata": {},
   "source": [
    "%load_ext autoreload\n",
    "%autoreload 2"
   ]
  },
  {
   "cell_type": "code",
   "execution_count": 1,
   "metadata": {},
   "outputs": [],
   "source": [
    "import pandas as pd\n",
    "import json\n",
    "import pickle\n",
    "import os\n",
    "import itertools\n",
    "from ast import literal_eval\n",
    "import numpy as np\n",
    "import sys\n",
    "from datetime import datetime\n",
    "from IPython.display import clear_output, display\n",
    "import subprocess\n",
    "from datetime import datetime\n",
    "pd.options.display.float_format = '{:.0f}'.format"
   ]
  },
  {
   "cell_type": "code",
   "execution_count": 2,
   "metadata": {},
   "outputs": [],
   "source": [
    "def LoadJsonFile(filename): \n",
    "    with open(filename, 'r') as f:\n",
    "        DicConfig = json.load(f)\n",
    "    return DicConfig\n",
    "\n",
    "\n",
    "def GlobalDicDeplier(OneDic):\n",
    "    for k,v in OneDic.items():\n",
    "        exec('globals()[k] = v')\n",
    "    return None"
   ]
  },
  {
   "cell_type": "code",
   "execution_count": 3,
   "metadata": {},
   "outputs": [
    {
     "name": "stdout",
     "output_type": "stream",
     "text": [
      "Load Config variables\n"
     ]
    }
   ],
   "source": [
    "DicConfig = LoadJsonFile(os.path.join(os.getcwd(),\"config.json\"))\n",
    "GlobalDicDeplier(DicConfig)\n",
    "sys.path.append(Root)\n",
    "from fun import *\n",
    "print(\"Load Config variables\")"
   ]
  },
  {
   "cell_type": "code",
   "execution_count": 4,
   "metadata": {},
   "outputs": [
    {
     "name": "stdout",
     "output_type": "stream",
     "text": [
      "Load Dataframes\n"
     ]
    }
   ],
   "source": [
    "path = os.path.join(Root,FolderProject,\"RefRT.pkl\")\n",
    "RefRT = LoadPickleOrInit(path)\n",
    "\n",
    "path = os.path.join(Root,FolderProject,\"RefFam.pkl\")\n",
    "RefFam = LoadPickleOrInit(path)\n",
    "\n",
    "path = os.path.join(Root,FolderProject,\"RefInf.pkl\")\n",
    "RefInf = LoadPickleOrInit(path)\n",
    "\n",
    "\n",
    "path = os.path.join(Root,FolderProject,\"BatchRT.pkl\")\n",
    "BatchRT = LoadPickleOrInit(path)\n",
    "\n",
    "path = os.path.join(Root,FolderProject,\"BatchFamousTweet.pkl\")\n",
    "BatchFam = LoadPickleOrInit(path)\n",
    "\n",
    "path = os.path.join(Root,FolderProject,\"BatchInf.pkl\")\n",
    "BatchInf = LoadPickleOrInit(path)\n",
    "\n",
    "print(\"Load Dataframes\")"
   ]
  },
  {
   "cell_type": "markdown",
   "metadata": {},
   "source": [
    "# RT Part"
   ]
  },
  {
   "cell_type": "markdown",
   "metadata": {},
   "source": [
    "RefRT = RefRT.append(BatchRT,ignore_index = True)"
   ]
  },
  {
   "cell_type": "code",
   "execution_count": 5,
   "metadata": {},
   "outputs": [
    {
     "name": "stdout",
     "output_type": "stream",
     "text": [
      "RT Part\n"
     ]
    }
   ],
   "source": [
    "RefRT = pd.concat([RefRT,BatchRT],axis=0,sort=True)\n",
    "RefRT[[\"status\"]] = RefRT[[\"status\"]].fillna(value=\"ko\")\n",
    "RefRT.reset_index(inplace = True,drop = True)\n",
    "RefRT.drop_duplicates(subset=[\"TWEETID\",\"USERID\"],inplace=True)\n",
    "\n",
    "PickleDump(os.path.join(Root,FolderProject,\"RefRT.pkl\"),RefRT)\n",
    "\n",
    "path = os.path.join(Root,FolderProject,\"RefRT.pkl\")\n",
    "\n",
    "RefRT_memory = RetrieveSize(path)\n",
    "RefRT_rows = len(RefRT)\n",
    "RefRT_tweets = len(np.unique(RefRT.AUTHORTWEETID))\n",
    "RefRT_users = len(np.unique(RefRT.USERID))\n",
    "RefRT_authors = len(np.unique(RefRT.AUTHORID))\n",
    "RefRT_datemin = RefRT.TWEETUNIXEPOCH.min()\n",
    "RefRT_datemax = RefRT.TWEETUNIXEPOCH.max()\n",
    "\n",
    "print(\"RT Part\")"
   ]
  },
  {
   "cell_type": "markdown",
   "metadata": {},
   "source": [
    "# Fam Part"
   ]
  },
  {
   "cell_type": "code",
   "execution_count": 6,
   "metadata": {},
   "outputs": [
    {
     "name": "stdout",
     "output_type": "stream",
     "text": [
      "Fam Part\n"
     ]
    }
   ],
   "source": [
    "RefFam = pd.concat([RefFam,BatchFam],axis=0,sort=True)\n",
    "RefFam[[\"status\"]] = RefFam[[\"status\"]].fillna(value=\"ko\")\n",
    "RefFam.reset_index(inplace = True,drop = True)\n",
    "RefFam.drop_duplicates(inplace=True)\n",
    "RefFam.drop_duplicates(subset = \"AUTHORTWEETID\", inplace = True)\n",
    "\n",
    "PickleDump(os.path.join(Root,FolderProject,\"RefFam.pkl\"),RefFam)\n",
    "\n",
    "path = os.path.join(Root,FolderProject,\"RefFam.pkl\")\n",
    "\n",
    "RefFam_memory = RetrieveSize(path)\n",
    "RefFam_rows = len(RefFam)\n",
    "RefFam_authors = len(np.unique(RefFam.AUTHORID))\n",
    "RefFam_tweets = len(np.unique(RefFam.AUTHORTWEETID))\n",
    "RefFam_datemin = RefFam.AUTHORTWEETUNIXEPOCH.min()\n",
    "RefFam_datemax = RefFam.AUTHORTWEETUNIXEPOCH.max()\n",
    "\n",
    "print(\"Fam Part\")"
   ]
  },
  {
   "cell_type": "markdown",
   "metadata": {},
   "source": [
    "# Inf Part"
   ]
  },
  {
   "cell_type": "code",
   "execution_count": 7,
   "metadata": {},
   "outputs": [
    {
     "name": "stdout",
     "output_type": "stream",
     "text": [
      "Inf Part\n"
     ]
    }
   ],
   "source": [
    "RefInf = RefInf.append(BatchInf,ignore_index = True)\n",
    "RefInf.reset_index(inplace = True,drop = True)\n",
    "RefInf = RefInf.groupby(\"AUTHORID\").first().reset_index()\n",
    "PickleDump(os.path.join(Root,FolderProject,\"RefInf.pkl\"),RefInf)\n",
    "\n",
    "path = os.path.join(Root,FolderProject,\"RefInf.pkl\")\n",
    "\n",
    "RefInf_memory = RetrieveSize(path)\n",
    "RefInf_rows = len(RefInf)\n",
    "RefInf_authors = len(np.unique(RefInf.AUTHORID))\n",
    "\n",
    "print(\"Inf Part\")"
   ]
  },
  {
   "cell_type": "markdown",
   "metadata": {},
   "source": [
    "# Logs"
   ]
  },
  {
   "cell_type": "code",
   "execution_count": 8,
   "metadata": {},
   "outputs": [],
   "source": [
    "def FormatNumber(Size):\n",
    "    res = f'{Size:,}'\n",
    "    return res"
   ]
  },
  {
   "cell_type": "code",
   "execution_count": 9,
   "metadata": {},
   "outputs": [
    {
     "name": "stdout",
     "output_type": "stream",
     "text": [
      "Format values\n"
     ]
    }
   ],
   "source": [
    "RefInf_rows = FormatNumber(RefInf_rows)\n",
    "RefInf_authors = FormatNumber(RefInf_authors)\n",
    "\n",
    "RefFam_rows = FormatNumber(RefFam_rows)\n",
    "RefFam_authors = FormatNumber(RefFam_authors)\n",
    "RefFam_tweets = FormatNumber(RefFam_tweets)\n",
    "\n",
    "RefRT_rows = FormatNumber(RefRT_rows)\n",
    "RefRT_tweets = FormatNumber(RefRT_tweets)\n",
    "RefRT_users = FormatNumber(RefRT_users)\n",
    "RefRT_authors = FormatNumber(RefRT_authors)\n",
    "\n",
    "RefFam_datemin = str(pd.to_datetime(RefFam_datemin,unit=\"s\"))\n",
    "RefFam_datemax = str(pd.to_datetime(RefFam_datemax,unit=\"s\"))\n",
    "RefRT_datemin = str(pd.to_datetime(RefRT_datemin,unit=\"s\"))\n",
    "RefRT_datemax = str(pd.to_datetime(RefRT_datemax,unit=\"s\"))\n",
    "\n",
    "print(\"Format values\")"
   ]
  },
  {
   "cell_type": "code",
   "execution_count": 10,
   "metadata": {},
   "outputs": [
    {
     "name": "stdout",
     "output_type": "stream",
     "text": [
      "Write logs\n"
     ]
    }
   ],
   "source": [
    "RefInfDic = {\"RefInf_memory\":RefInf_memory,\n",
    "\"RefInf_rows\":RefInf_rows,\n",
    "\"RefInf_authors\":RefInf_authors}\n",
    "\n",
    "RefFamDic = {\"RefFam_memory\" : RefFam_memory,\n",
    "\"RefFam_rows\" : RefFam_rows,\n",
    "\"RefFam_authors\" : RefFam_authors,\n",
    "\"RefFam_tweets\" : RefFam_tweets,\n",
    "\"RefFam_datemin\" : RefFam_datemin,\n",
    "\"RefFam_datemax\" : RefFam_datemax}\n",
    "\n",
    "RefRTDic = {\"RefRT_memory\" : RefRT_memory,\n",
    "\"RefRT_rows\" : RefRT_rows,\n",
    "\"RefRT_tweets\" : RefRT_tweets,\n",
    "\"RefRT_users\" : RefRT_users,\n",
    "\"RefRT_authors\" : RefRT_authors,\n",
    "\"RefRT_datemin\" : RefRT_datemin,\n",
    "\"RefRT_datemax\" : RefRT_datemax}\n",
    "\n",
    "RefLogs = {\"Fam\":RefFamDic,\n",
    "             \"RT\":RefRTDic,\n",
    "             \"Inf\":RefInfDic}\n",
    "filename = os.path.join(Root,FolderProject,\"Ref.log\")\n",
    "AppendStringToFile(filename,RefLogs)\n",
    "\n",
    "print(\"Write logs\")"
   ]
  },
  {
   "cell_type": "code",
   "execution_count": 13,
   "metadata": {},
   "outputs": [
    {
     "data": {
      "text/plain": [
       "(151, 5)"
      ]
     },
     "execution_count": 13,
     "metadata": {},
     "output_type": "execute_result"
    }
   ],
   "source": [
    "RefFam.shape"
   ]
  }
 ],
 "metadata": {
  "kernelspec": {
   "display_name": "twitter",
   "language": "python",
   "name": "twitter"
  },
  "language_info": {
   "codemirror_mode": {
    "name": "ipython",
    "version": 3
   },
   "file_extension": ".py",
   "mimetype": "text/x-python",
   "name": "python",
   "nbconvert_exporter": "python",
   "pygments_lexer": "ipython3",
   "version": "3.6.7"
  }
 },
 "nbformat": 4,
 "nbformat_minor": 2
}
