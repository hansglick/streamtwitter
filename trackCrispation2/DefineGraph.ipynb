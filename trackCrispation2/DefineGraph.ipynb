{
 "cells": [
  {
   "cell_type": "code",
   "execution_count": 1,
   "metadata": {},
   "outputs": [],
   "source": [
    "import pandas as pd\n",
    "import json\n",
    "import pickle\n",
    "import os\n",
    "import itertools\n",
    "from ast import literal_eval\n",
    "import numpy as np\n",
    "import sys\n",
    "from datetime import datetime\n",
    "from scipy import stats\n",
    "from IPython.display import clear_output, display\n",
    "import subprocess\n",
    "from datetime import datetime\n",
    "pd.options.display.float_format = '{:.0f}'.format"
   ]
  },
  {
   "cell_type": "code",
   "execution_count": 2,
   "metadata": {},
   "outputs": [],
   "source": [
    "def LoadJsonFile(filename): \n",
    "    with open(filename, 'r') as f:\n",
    "        DicConfig = json.load(f)\n",
    "    return DicConfig\n",
    "\n",
    "\n",
    "def GlobalDicDeplier(OneDic):\n",
    "    for k,v in OneDic.items():\n",
    "        exec('globals()[k] = v')\n",
    "    return None"
   ]
  },
  {
   "cell_type": "code",
   "execution_count": 3,
   "metadata": {},
   "outputs": [
    {
     "name": "stdout",
     "output_type": "stream",
     "text": [
      "Load Config variables\n"
     ]
    }
   ],
   "source": [
    "DicConfig = LoadJsonFile(os.path.join(os.getcwd(),\"config.json\"))\n",
    "GlobalDicDeplier(DicConfig)\n",
    "sys.path.append(Root)\n",
    "from fun import *\n",
    "\n",
    "print(\"Load Config variables\")"
   ]
  },
  {
   "cell_type": "code",
   "execution_count": 4,
   "metadata": {},
   "outputs": [
    {
     "name": "stdout",
     "output_type": "stream",
     "text": [
      "Load data\n"
     ]
    }
   ],
   "source": [
    "# LOAD DATA\n",
    "print(\"Load data\")\n",
    "path = os.path.join(Root,FolderProject,\"RefFam.pkl\")\n",
    "RefFam = LoadPickleOrInit(path)\n",
    "\n",
    "path = os.path.join(Root,FolderProject,\"RefRT.pkl\")\n",
    "RefRT = LoadPickleOrInit(path)\n",
    "\n",
    "tweetsdf = RefFam.copy()[RefFam.status==\"ok\"]\n",
    "rtdf = RefRT.copy()[RefRT.status==\"ok\"]\n",
    "\n",
    "OldListOfTMResults = LoadPickleOrInit(os.path.join(Root,FolderProject,\"SequenceOfGraphResults.pkl\"),\n",
    "                                      typeobj=\"dic\")"
   ]
  },
  {
   "cell_type": "code",
   "execution_count": 5,
   "metadata": {},
   "outputs": [],
   "source": [
    "if len(rtdf)>2:\n",
    "\n",
    "    datefirst = rtdf.TWEETUNIXEPOCH.min()\n",
    "    datelast = rtdf.TWEETUNIXEPOCH.max()\n",
    "\n",
    "    # DEFINE PREREQUISITE VARIABLES\n",
    "    print(\"Define parameters\")\n",
    "    firstdate,lastdate = DefineFirstLastDate(rtdf,StepSize,OldListOfTMResults)\n",
    "    ListOfTM = DefineTimeMarks(lastdate,firstdate,StepSize,WindowSize)\n",
    "\n",
    "    # ANALYTICS\n",
    "    print(\"Analytics ...\")\n",
    "    ListOfTMResults = ListOfTMTreatment(ListOfTM,WindowSize,StepSize,rtdf)\n",
    "    LogTMAddSize = len(ListOfTMResults)\n",
    "    print(\"Run Analytics : \",str(LogTMAddSize>1))\n",
    "    \n",
    "    \n",
    "else:\n",
    "    LogTMAddSize=0"
   ]
  },
  {
   "cell_type": "code",
   "execution_count": 7,
   "metadata": {},
   "outputs": [],
   "source": [
    "print(\"Logs A\")\n",
    "if LogTMAddSize>1:\n",
    "\n",
    "    LogBasicStats = [(str(pd.to_datetime(k,unit=\"s\")),\n",
    "                      len(v[\"Links\"]),\n",
    "                      len(v[\"Tweets\"])) for k,v in ListOfTMResults.items()]\n",
    "    LogBasicStats = np.array([item[2] for item in LogBasicStats])\n",
    "    LogBasicStats = stats.describe(LogBasicStats)\n",
    "    LogBasicStatsTweets = dict(LogBasicStats._asdict())\n",
    "\n",
    "    LogBasicStats = [(str(pd.to_datetime(k,unit=\"s\")),\n",
    "                      len(v[\"Links\"]),\n",
    "                      len(v[\"Tweets\"])) for k,v in ListOfTMResults.items()]\n",
    "    LogBasicStats = np.array([item[1] for item in LogBasicStats])\n",
    "    LogBasicStats = stats.describe(LogBasicStats)\n",
    "    LogBasicStatsLinks = dict(LogBasicStats._asdict())"
   ]
  },
  {
   "cell_type": "code",
   "execution_count": 8,
   "metadata": {},
   "outputs": [],
   "source": [
    "print(\"Logs B\")\n",
    "if LogTMAddSize>1:\n",
    "    \n",
    "    ListOfTMResults = {**ListOfTMResults, **OldListOfTMResults}\n",
    "\n",
    "    LogTMNowSize = len(ListOfTMResults)\n",
    "\n",
    "    LogBasicStats = [(str(pd.to_datetime(k,unit=\"s\")),\n",
    "                      len(v[\"Links\"]),\n",
    "                      len(v[\"Tweets\"])) for k,v in ListOfTMResults.items()]\n",
    "    LogBasicStats = np.array([item[2] for item in LogBasicStats])\n",
    "    LogBasicStats = stats.describe(LogBasicStats)\n",
    "    LogBasicStatsTweets2 = dict(LogBasicStats._asdict())\n",
    "\n",
    "    LogBasicStats = [(str(pd.to_datetime(k,unit=\"s\")),\n",
    "                      len(v[\"Links\"]),\n",
    "                      len(v[\"Tweets\"])) for k,v in ListOfTMResults.items()]\n",
    "    LogBasicStats = np.array([item[1] for item in LogBasicStats])\n",
    "    LogBasicStats = stats.describe(LogBasicStats)\n",
    "    LogBasicStatsLinks2 = dict(LogBasicStats._asdict())"
   ]
  },
  {
   "cell_type": "code",
   "execution_count": 9,
   "metadata": {},
   "outputs": [],
   "source": [
    "print(\"Writing Logs\")\n",
    "if LogTMAddSize>1:\n",
    "# SAVE LOGS\n",
    "    mylog = {\"TMAddSize\":LogTMAddSize,\n",
    "             \"TMNowSize\":LogTMNowSize,\n",
    "             \"AddBasicStatsLinks\":LogBasicStatsLinks,\n",
    "             \"AddBasicStatsTweets\":LogBasicStatsTweets,\n",
    "             \"NewBasicStatsLinks\":LogBasicStatsLinks2,\n",
    "             \"NewBasicStatsTweets\":LogBasicStatsTweets2}\n",
    "    filename = os.path.join(Root,FolderProject,\"Graph.log\")\n",
    "    AppendStringToFile(filename,mylog)"
   ]
  },
  {
   "cell_type": "code",
   "execution_count": 10,
   "metadata": {},
   "outputs": [],
   "source": [
    "print(\"Saving Results\")\n",
    "if LogTMAddSize>1:\n",
    "# SAVE RESULTS\n",
    "    PickleDump(os.path.join(Root,FolderProject,\"SequenceOfGraphResults.pkl\"),ListOfTMResults)"
   ]
  }
 ],
 "metadata": {
  "kernelspec": {
   "display_name": "twitter",
   "language": "python",
   "name": "twitter"
  },
  "language_info": {
   "codemirror_mode": {
    "name": "ipython",
    "version": 3
   },
   "file_extension": ".py",
   "mimetype": "text/x-python",
   "name": "python",
   "nbconvert_exporter": "python",
   "pygments_lexer": "ipython3",
   "version": "3.6.7"
  }
 },
 "nbformat": 4,
 "nbformat_minor": 2
}
