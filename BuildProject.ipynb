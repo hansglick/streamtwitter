{
 "cells": [
  {
   "cell_type": "code",
   "execution_count": 24,
   "metadata": {},
   "outputs": [
    {
     "name": "stdout",
     "output_type": "stream",
     "text": [
      "The autoreload extension is already loaded. To reload it, use:\n",
      "  %reload_ext autoreload\n"
     ]
    }
   ],
   "source": [
    "import sys\n",
    "import os\n",
    "import json\n",
    "from shutil import copyfile\n",
    "import subprocess\n",
    "%load_ext autoreload\n",
    "%autoreload 2"
   ]
  },
  {
   "cell_type": "markdown",
   "metadata": {},
   "source": [
    "# Parameters"
   ]
  },
  {
   "cell_type": "code",
   "execution_count": 25,
   "metadata": {},
   "outputs": [],
   "source": [
    "JupyterRoot = \"/home/osboxes/anaconda3/bin/jupyter\"\n",
    "PythonRoot = \"/home/osboxes/anaconda3/envs/twitter/bin/python\"\n",
    "Root = \"/home/osboxes/proj/streamtwitter/\"\n",
    "LangList = ['fr']\n",
    "FolderProject = \"trackCrispation\"\n",
    "TrendingTopics = [\"islam\",\"discrimination\",\"stigmatisation\",\"discriminé\",\"stigmatisé\",\n",
    "                  \"terrorisme\",\n",
    "                  \"hijab\",\n",
    "                  \"hidjab\",\n",
    "                  \"islamophobe\",\n",
    "                  \"islamophobie\",\n",
    "                  \"islamisme\",\n",
    "                  \"islamiste\",\n",
    "                  \"islamo-gauchisme\",\n",
    "                  \"islamogauchisme\",\n",
    "                  \"islamo-gauchiste\",\n",
    "                  \"islamogauchiste\",\n",
    "                  \"raciste\",\n",
    "                  \"racisme\",\n",
    "                  \"white privilege\",\n",
    "                  \"privilège blanc\",\n",
    "                  \"patriarcat blanc\",\n",
    "                  \"intersectionalité\",\n",
    "                  \"anitsionisme\",\n",
    "                  \"sionisme\",\n",
    "                  \"sioniste\",\n",
    "                  \"antisioniste\",\n",
    "                  \"colonialisme\",\n",
    "                  \"colon\",\n",
    "                  \"colons\",\n",
    "                  \"colonialiste\",\n",
    "                  \"black face\",\n",
    "                  \"blackface\"]\n",
    "AuthFilename = \"auth1.password\"\n",
    "TweetsFilename = \"tweets.data\"\n",
    "bassine_size = 3600*1\n",
    "bassine_recul = 3600*1\n",
    "bassine_threshold = 75\n",
    "StepSize = 3 * 3600\n",
    "WindowSize = 4 * 3600\n",
    "\n",
    "DicConfig = {\"Root\" : Root,\n",
    "             \"LangList\" : LangList,\n",
    "             \"FolderProject\" : FolderProject,\n",
    "             \"TrendingTopics\" : TrendingTopics,\n",
    "             \"AuthFilename\" : AuthFilename,\n",
    "             \"TweetsFilename\":TweetsFilename,\n",
    "             \"JupyterRoot\":JupyterRoot,\n",
    "             \"PythonRoot\":PythonRoot,\n",
    "             \"bassine_size\":bassine_size,\n",
    "             \"bassine_recul\":bassine_recul,\n",
    "             \"bassine_threshold\":bassine_threshold,\n",
    "             \"StepSize\":StepSize,\n",
    "             \"WindowSize\":WindowSize}\n",
    "\n",
    "sys.path.append(Root)\n",
    "from fun import *"
   ]
  },
  {
   "cell_type": "code",
   "execution_count": 26,
   "metadata": {},
   "outputs": [
    {
     "name": "stdout",
     "output_type": "stream",
     "text": [
      "['islam', 'discrimination', 'stigmatisation', 'discriminé', 'stigmatisé', 'terrorisme', 'hijab', 'hidjab', 'islamophobe', 'islamophobie', 'islamisme', 'islamiste', 'islamo-gauchisme', 'islamogauchisme', 'islamo-gauchiste', 'islamogauchiste', 'raciste', 'racisme', 'white privilege', 'privilège blanc', 'patriarcat blanc', 'intersectionalité', 'anitsionisme', 'sionisme', 'sioniste', 'antisioniste', 'colonialisme', 'colon', 'colons', 'colonialiste', 'black face', 'blackface']\n"
     ]
    }
   ],
   "source": [
    "CreateFolder(Root,FolderProject)"
   ]
  },
  {
   "cell_type": "code",
   "execution_count": 27,
   "metadata": {},
   "outputs": [],
   "source": [
    "SaveConfig(DicConfig,Root,FolderProject)"
   ]
  },
  {
   "cell_type": "code",
   "execution_count": 28,
   "metadata": {},
   "outputs": [],
   "source": [
    "StringScript = WriteStreamPythonString(Root,FolderProject)"
   ]
  },
  {
   "cell_type": "code",
   "execution_count": 29,
   "metadata": {},
   "outputs": [],
   "source": [
    "WriteStringToScript(StringScript,os.path.join(Root,FolderProject,\"RunTracking.py\"))"
   ]
  },
  {
   "cell_type": "code",
   "execution_count": 30,
   "metadata": {},
   "outputs": [],
   "source": [
    "BashScript = WriteStreamBashString(PythonRoot,TweetsFilename)"
   ]
  },
  {
   "cell_type": "code",
   "execution_count": 31,
   "metadata": {},
   "outputs": [],
   "source": [
    "WriteStringToScript(BashScript,os.path.join(Root,FolderProject,\"Run.sh\"))"
   ]
  },
  {
   "cell_type": "code",
   "execution_count": 32,
   "metadata": {},
   "outputs": [
    {
     "data": {
      "text/plain": [
       "0"
      ]
     },
     "execution_count": 32,
     "metadata": {},
     "output_type": "execute_result"
    }
   ],
   "source": [
    "a = \"chmod +x \"\n",
    "b = os.path.join(Root,FolderProject,\"Run.sh\")\n",
    "commandbash = a + b\n",
    "subprocess.call(commandbash,shell = True)"
   ]
  },
  {
   "cell_type": "code",
   "execution_count": 33,
   "metadata": {},
   "outputs": [],
   "source": [
    "a = ConvertAndRunScript(JupyterRoot,PythonRoot,Root,FolderProject,\"BuildBatch\")\n",
    "b = ConvertAndRunScript(JupyterRoot,PythonRoot,Root,FolderProject,\"BuildRef\")\n",
    "c = ConvertAndRunScript(JupyterRoot,PythonRoot,Root,FolderProject,\"RemoveIrrelevant\")\n",
    "d = ConvertAndRunScript(JupyterRoot,PythonRoot,Root,FolderProject,\"UpdateRef\")\n",
    "\n",
    "StringScript = a + \"\\n\\n\" + b + \"\\n\\n\" + c  + \"\\n\\n\" + d\n",
    "WriteStringToFile(StringScript,os.path.join(Root,FolderProject,\"UpRef.sh\"))"
   ]
  },
  {
   "cell_type": "code",
   "execution_count": 34,
   "metadata": {},
   "outputs": [
    {
     "data": {
      "text/plain": [
       "0"
      ]
     },
     "execution_count": 34,
     "metadata": {},
     "output_type": "execute_result"
    }
   ],
   "source": [
    "a = \"chmod +x \"\n",
    "b = os.path.join(Root,FolderProject,\"UpRef.sh\")\n",
    "commandbash = a + b\n",
    "subprocess.call(commandbash,shell = True)"
   ]
  },
  {
   "cell_type": "code",
   "execution_count": null,
   "metadata": {},
   "outputs": [],
   "source": []
  },
  {
   "cell_type": "code",
   "execution_count": null,
   "metadata": {},
   "outputs": [],
   "source": []
  }
 ],
 "metadata": {
  "kernelspec": {
   "display_name": "twitter",
   "language": "python",
   "name": "twitter"
  },
  "language_info": {
   "codemirror_mode": {
    "name": "ipython",
    "version": 3
   },
   "file_extension": ".py",
   "mimetype": "text/x-python",
   "name": "python",
   "nbconvert_exporter": "python",
   "pygments_lexer": "ipython3",
   "version": "3.6.7"
  }
 },
 "nbformat": 4,
 "nbformat_minor": 2
}
