{
 "cells": [
  {
   "cell_type": "code",
   "execution_count": 2,
   "metadata": {},
   "outputs": [],
   "source": [
    "import sys\n",
    "import os\n",
    "import json\n",
    "from shutil import copyfile"
   ]
  },
  {
   "cell_type": "markdown",
   "metadata": {},
   "source": [
    "# Parameters"
   ]
  },
  {
   "cell_type": "code",
   "execution_count": 3,
   "metadata": {},
   "outputs": [],
   "source": [
    "Root = \"/home/osboxes/proj/streamtwitter/\"\n",
    "LangList = ['en']\n",
    "FolderProject = \"trackIran\"\n",
    "TrendingTopics = [\"trump\"]\n",
    "AuthFilename = \"auth3.password\"\n",
    "TweetsFilename = \"tweets.data\"\n",
    "BacLength = 86400\n",
    "SpaceLength = 2*86400\n",
    "NMostPopular = 100\n",
    "DropBacLength = 4*3600\n",
    "DropSpaceLength = 4*3600\n",
    "\n",
    "DicConfig = {\"Root\" : Root,\n",
    "             \"LangList\" : LangList,\n",
    "             \"FolderProject\" : FolderProject,\n",
    "             \"TrendingTopics\" : TrendingTopics,\n",
    "             \"AuthFilename\" : AuthFilename,\n",
    "             \"TweetsFilename\":TweetsFilename,\n",
    "             \"BacLength\":BacLength,\n",
    "             \"SpaceLength\":SpaceLength,\n",
    "             \"NMostPopular\":NMostPopular,\n",
    "             \"DropBacLength\":DropBacLength,\n",
    "             \"DropSpaceLength\":DropSpaceLength}\n",
    "\n",
    "sys.path.append(Root)\n",
    "from FunBuildProj import *"
   ]
  },
  {
   "cell_type": "code",
   "execution_count": 10,
   "metadata": {},
   "outputs": [],
   "source": [
    "CreateFolder(Root,FolderProject)"
   ]
  },
  {
   "cell_type": "code",
   "execution_count": 11,
   "metadata": {},
   "outputs": [],
   "source": [
    "SaveConfig(DicConfig,Root,FolderProject)"
   ]
  },
  {
   "cell_type": "code",
   "execution_count": 12,
   "metadata": {},
   "outputs": [],
   "source": [
    "WriteStreamPythonScript(Root,FolderProject)"
   ]
  },
  {
   "cell_type": "code",
   "execution_count": 13,
   "metadata": {},
   "outputs": [],
   "source": [
    "WriteStreamBashScript(TweetsFilename,Root,FolderProject)"
   ]
  },
  {
   "cell_type": "code",
   "execution_count": 14,
   "metadata": {},
   "outputs": [],
   "source": [
    "WriteUpdateBashScript(Root,FolderProject,CopyFiles=False)"
   ]
  },
  {
   "cell_type": "code",
   "execution_count": 13,
   "metadata": {},
   "outputs": [],
   "source": [
    "pythonfiles = [f for f in os.listdir(Root) if f.endswith(\".py\")]\n",
    "CopyFilesToDirectory(pythonfiles,Root,os.path.join(Root,FolderProject))"
   ]
  }
 ],
 "metadata": {
  "kernelspec": {
   "display_name": "twitter",
   "language": "python",
   "name": "twitter"
  },
  "language_info": {
   "codemirror_mode": {
    "name": "ipython",
    "version": 3
   },
   "file_extension": ".py",
   "mimetype": "text/x-python",
   "name": "python",
   "nbconvert_exporter": "python",
   "pygments_lexer": "ipython3",
   "version": "3.6.7"
  }
 },
 "nbformat": 4,
 "nbformat_minor": 2
}
