{
 "cells": [
  {
   "cell_type": "code",
   "execution_count": 13,
   "metadata": {},
   "outputs": [
    {
     "name": "stdout",
     "output_type": "stream",
     "text": [
      "The autoreload extension is already loaded. To reload it, use:\n",
      "  %reload_ext autoreload\n"
     ]
    }
   ],
   "source": [
    "import sys\n",
    "import os\n",
    "import json\n",
    "from shutil import copyfile\n",
    "import subprocess\n",
    "%load_ext autoreload\n",
    "%autoreload 2"
   ]
  },
  {
   "cell_type": "markdown",
   "metadata": {},
   "source": [
    "# Parameters"
   ]
  },
  {
   "cell_type": "code",
   "execution_count": 14,
   "metadata": {},
   "outputs": [],
   "source": [
    "KeyWordsList = [\"islam\",\n",
    "\"islamo\",\n",
    "\"gauchisme\",\n",
    "\"gauchiste\",\n",
    "\"wallah\",\n",
    "\"musulman\",\n",
    "\"hallal\",\n",
    "\"daesh\",\n",
    "\"islamique\",\n",
    "\"fères musulmans\",\n",
    "\"frèriste\",\n",
    "\"freriste\",\n",
    "\"mécréant\",\n",
    "\"koufar\",\n",
    "\"kouffar\",\n",
    "\"kafir\",\n",
    "\"kaffir\",\n",
    "\"blasphème\",\n",
    "\"hijab\",\n",
    "\"hidjab\",\n",
    "\"burqa\",\n",
    "\"burka\",\n",
    "\"burqua\",\n",
    "\"burkini\",\n",
    "\"kamis\",\n",
    "\"salafisme\",\n",
    "\"mosquée\",\n",
    "\"coran\",\n",
    "\"allah\",\n",
    "\"djihad\",\n",
    "\"jihad\",\n",
    "\"djihadiste\",\n",
    "\"jihadiste\",\n",
    "\"jihadisme\",\n",
    "\"djihadisme\",\n",
    "\"CFCM\",\n",
    "\"UOIF\",\n",
    "\"conversion\",\n",
    "\"converti\",\n",
    "\"arabe\",\n",
    "\"reubeu\",\n",
    "\"rebeu\",\n",
    "\"islamisation\",\n",
    "\"salam\",\n",
    "\"sheitan\",\n",
    "\"cheitan\",\n",
    "\"blasphémer\",\n",
    "\"blasphemer\",\n",
    "\"afro féminisme\",\n",
    "\"afroféminisime\",\n",
    "\"patriarcat blanc\",\n",
    "\"blanctriarcat\",\n",
    "\"black face\",\n",
    "\"blackface\",\n",
    "\"intersectionalité\",\n",
    "\"afropéen\",\n",
    "\"oppression\",\n",
    "\"opprimé\",\n",
    "\"appropriation culturelle\",\n",
    "\"harcèlement\",\n",
    "\"violence policère\",\n",
    "\"violences policière\",\n",
    "\"babtou\",\n",
    "\"toubab\",\n",
    "\"gwer\",\n",
    "\"céfran\",\n",
    "\"youpin\",\n",
    "\"sal juif\",\n",
    "\"policère\",\n",
    "\"négre\",\n",
    "\"négresse\",\n",
    "\"esclavage\",\n",
    "\"esclavagisme\",\n",
    "\"esclavagiste\",\n",
    "\"négrier\",\n",
    "\"negrier\",\n",
    "\"négrophobie\",\n",
    "\"negrophobie\",\n",
    "\"negrophobe\",\n",
    "\"négrophobe\",\n",
    "\"beurette\",\n",
    "\"chibani\",\n",
    "\"attaque au couteau\",\n",
    "\"égorgement\",\n",
    "\"égorgé\",\n",
    "\"lynchage\",\n",
    "\"lynché\",\n",
    "\"viol\",\n",
    "\"déséquilibré\",\n",
    "\"desequilibre\",\n",
    "\"attentat\",\n",
    "\"terrorisme\",\n",
    "\"terroriste\",\n",
    "\"séquestré\",\n",
    "\"séquestration\",\n",
    "\"fusillade\",\n",
    "\"kalashnikov\",\n",
    "\"kalachnikov\",\n",
    "\"homicide\",\n",
    "\"féminicide\",\n",
    "\"interpellation\",\n",
    "\"décédé\",\n",
    "\"crime\",\n",
    "\"enrichissement culturel\",\n",
    "\"multiculturel\",\n",
    "\"multiculturalisme\",\n",
    "\"diversité\",\n",
    "\"padamalgam\",\n",
    "\"amalgame\",\n",
    "\"stremdrouate\",\n",
    "\"grand remplacement\",\n",
    "\"identitaire\",\n",
    "\"identitarisme\",\n",
    "\"social justice warrior\",\n",
    "\"SJW\",\n",
    "\"inquisiteur\",\n",
    "\"racialisme\",\n",
    "\"racialiste\",\n",
    "\"nazi\",\n",
    "\"nazisme\",\n",
    "\"inquisition\",\n",
    "\"racisme\",\n",
    "\"raciste\",\n",
    "\"facho\",\n",
    "\"fachiste\",\n",
    "\"fasciste\",\n",
    "\"islamophobe\",\n",
    "\"antiblanc\",\n",
    "\"anti blanc\",\n",
    "\"antisémite\",\n",
    "\"antisémitisme\",\n",
    "\"judéophobe\",\n",
    "\"judéophobie\",\n",
    "\"antisioniste\",\n",
    "\"sioniste\",\n",
    "\"antisionisme\",\n",
    "\"feuj\",\n",
    "\"israël\",\n",
    "\"israel\",\n",
    "\"CRIF\",\n",
    "\"palestine\",\n",
    "\"gaza\",\n",
    "\"antiraciste\",\n",
    "\"antiracisme\",\n",
    "\"homophobe\",\n",
    "\"homophobie\",\n",
    "\"indigène\",\n",
    "\"indigénisme\",\n",
    "\"basané\",\n",
    "\"colon\",\n",
    "\"colonisé\",\n",
    "\"colonisation\",\n",
    "\"décoloniale\",\n",
    "\"décolonial\",\n",
    "\"colonie\",\n",
    "\"envahisseur\",\n",
    "\"occupation\",\n",
    "\"apartheid\",\n",
    "\"impérialisme\",\n",
    "\"anti-impérialisme\",\n",
    "\"décoloniser\",\n",
    "\"radicalisation\",\n",
    "\"radicalisé\",\n",
    "\"autochtone\",\n",
    "\"racisé\",\n",
    "\"palestinien\",\n",
    "\"xenophobie\",\n",
    "\"xénophobe\",\n",
    "\"occupé\",\n",
    "\"occupée\",\n",
    "\"répression\",\n",
    "\"remplaciste\",\n",
    "\"remplacisme\",\n",
    "\"oppressif\",\n",
    "\"génocide\",\n",
    "\"mâle blanc\",\n",
    "\"immigration\",\n",
    "\"immigrationiste\",\n",
    "\"immigrationisme\",\n",
    "\"immigrationnisme\",\n",
    "\"immigrationniste\",\n",
    "\"clandestin\",\n",
    "\"migrant\",\n",
    "\"passeur\",\n",
    "\"mineurs isolés\",\n",
    "\"immigré\",\n",
    "\"naturalisé\",\n",
    "\"naturalisation\",\n",
    "\"laïcité\",\n",
    "\"laïc\",\n",
    "\"laic\",\n",
    "\"laicité\",\n",
    "\"communautariste\",\n",
    "\"liberté d'expression\",\n",
    "\"repentance\",\n",
    "\"assimilation\",\n",
    "\"assimilé\",\n",
    "\"intégration\",\n",
    "\"insécurité\",\n",
    "\"agression\",\n",
    "\"discriminé\",\n",
    "\"discrimination\",\n",
    "\"stigmatisé\",\n",
    "\"stigmatisation\",\n",
    "\"ostracisé\",\n",
    "\"ostracisation\",\n",
    "\"ghetto\",\n",
    "\"cité sensible\",\n",
    "\"extrême droite\",\n",
    "\"extreme droite\"]"
   ]
  },
  {
   "cell_type": "code",
   "execution_count": 15,
   "metadata": {},
   "outputs": [],
   "source": [
    "JupyterRoot = \"/home/osboxes/anaconda3/bin/jupyter\"\n",
    "PythonRoot = \"/home/osboxes/anaconda3/envs/twitter/bin/python\"\n",
    "Root = \"/home/osboxes/proj/streamtwitter/\"\n",
    "LangList = ['fr']\n",
    "FolderProject = \"trackCrispation2\"\n",
    "TrendingTopics = KeyWordsList\n",
    "AuthFilename = \"auth1.password\"\n",
    "TweetsFilename = \"tweets.data\"\n",
    "bassine_size = 3600*8\n",
    "bassine_recul = 3600*4\n",
    "bassine_threshold = 75\n",
    "StepSize = 8 * 3600\n",
    "WindowSize = 86400 * 3\n",
    "TooInfrequentThreshold = 0.003\n",
    "TooFrequentThreshold = 1/3\n",
    "RemoveWordsPeriod = 86400\n",
    "\n",
    "DicConfig = {\"Root\" : Root,\n",
    "             \"LangList\" : LangList,\n",
    "             \"FolderProject\" : FolderProject,\n",
    "             \"TrendingTopics\" : TrendingTopics,\n",
    "             \"AuthFilename\" : AuthFilename,\n",
    "             \"TweetsFilename\":TweetsFilename,\n",
    "             \"JupyterRoot\":JupyterRoot,\n",
    "             \"PythonRoot\":PythonRoot,\n",
    "             \"bassine_size\":bassine_size,\n",
    "             \"bassine_recul\":bassine_recul,\n",
    "             \"bassine_threshold\":bassine_threshold,\n",
    "             \"StepSize\":StepSize,\n",
    "             \"WindowSize\":WindowSize,\n",
    "             \"TooInfrequentThreshold\":TooInfrequentThreshold ,\n",
    "             \"TooFrequentThreshold\":TooFrequentThreshold ,\n",
    "             \"RemoveWordsPeriod\":RemoveWordsPeriod }\n",
    "\n",
    "sys.path.append(Root)\n",
    "from fun import *"
   ]
  },
  {
   "cell_type": "code",
   "execution_count": 16,
   "metadata": {},
   "outputs": [
    {
     "name": "stdout",
     "output_type": "stream",
     "text": [
      "['islam', 'islamo', 'gauchisme', 'gauchiste', 'wallah', 'musulman', 'hallal', 'daesh', 'islamique', 'fères musulmans', 'frèriste', 'freriste', 'mécréant', 'koufar', 'kouffar', 'kafir', 'kaffir', 'blasphème', 'hijab', 'hidjab', 'burqa', 'burka', 'burqua', 'burkini', 'kamis', 'salafisme', 'mosquée', 'coran', 'allah', 'djihad', 'jihad', 'djihadiste', 'jihadiste', 'jihadisme', 'djihadisme', 'CFCM', 'UOIF', 'conversion', 'converti', 'arabe', 'reubeu', 'rebeu', 'islamisation', 'salam', 'sheitan', 'cheitan', 'blasphémer', 'blasphemer', 'afro féminisme', 'afroféminisime', 'patriarcat blanc', 'blanctriarcat', 'black face', 'blackface', 'intersectionalité', 'afropéen', 'oppression', 'opprimé', 'appropriation culturelle', 'harcèlement', 'violence policère', 'violences policière', 'babtou', 'toubab', 'gwer', 'céfran', 'youpin', 'sal juif', 'policère', 'négre', 'négresse', 'esclavage', 'esclavagisme', 'esclavagiste', 'négrier', 'negrier', 'négrophobie', 'negrophobie', 'negrophobe', 'négrophobe', 'beurette', 'chibani', 'attaque au couteau', 'égorgement', 'égorgé', 'lynchage', 'lynché', 'viol', 'déséquilibré', 'desequilibre', 'attentat', 'terrorisme', 'terroriste', 'séquestré', 'séquestration', 'fusillade', 'kalashnikov', 'kalachnikov', 'homicide', 'féminicide', 'interpellation', 'décédé', 'crime', 'enrichissement culturel', 'multiculturel', 'multiculturalisme', 'diversité', 'padamalgam', 'amalgame', 'stremdrouate', 'grand remplacement', 'identitaire', 'identitarisme', 'social justice warrior', 'SJW', 'inquisiteur', 'racialisme', 'racialiste', 'nazi', 'nazisme', 'inquisition', 'racisme', 'raciste', 'facho', 'fachiste', 'fasciste', 'islamophobe', 'antiblanc', 'anti blanc', 'antisémite', 'antisémitisme', 'judéophobe', 'judéophobie', 'antisioniste', 'sioniste', 'antisionisme', 'feuj', 'israël', 'israel', 'CRIF', 'palestine', 'gaza', 'antiraciste', 'antiracisme', 'homophobe', 'homophobie', 'indigène', 'indigénisme', 'basané', 'colon', 'colonisé', 'colonisation', 'décoloniale', 'décolonial', 'colonie', 'envahisseur', 'occupation', 'apartheid', 'impérialisme', 'anti-impérialisme', 'décoloniser', 'radicalisation', 'radicalisé', 'autochtone', 'racisé', 'palestinien', 'xenophobie', 'xénophobe', 'occupé', 'occupée', 'répression', 'remplaciste', 'remplacisme', 'oppressif', 'génocide', 'mâle blanc', 'immigration', 'immigrationiste', 'immigrationisme', 'immigrationnisme', 'immigrationniste', 'clandestin', 'migrant', 'passeur', 'mineurs isolés', 'immigré', 'naturalisé', 'naturalisation', 'laïcité', 'laïc', 'laic', 'laicité', 'communautariste', \"liberté d'expression\", 'repentance', 'assimilation', 'assimilé', 'intégration', 'insécurité', 'agression', 'discriminé', 'discrimination', 'stigmatisé', 'stigmatisation', 'ostracisé', 'ostracisation', 'ghetto', 'cité sensible', 'extrême droite', 'extreme droite']\n"
     ]
    }
   ],
   "source": [
    "CreateFolder(Root,FolderProject)"
   ]
  },
  {
   "cell_type": "code",
   "execution_count": 17,
   "metadata": {},
   "outputs": [],
   "source": [
    "SaveConfig(DicConfig,Root,FolderProject)"
   ]
  },
  {
   "cell_type": "code",
   "execution_count": 18,
   "metadata": {},
   "outputs": [],
   "source": [
    "StringScript = WriteStreamPythonString(Root,FolderProject)"
   ]
  },
  {
   "cell_type": "code",
   "execution_count": 19,
   "metadata": {},
   "outputs": [],
   "source": [
    "WriteStringToScript(StringScript,os.path.join(Root,FolderProject,\"RunTracking.py\"))"
   ]
  },
  {
   "cell_type": "code",
   "execution_count": 20,
   "metadata": {},
   "outputs": [],
   "source": [
    "BashScript = WriteStreamBashString(PythonRoot,TweetsFilename)"
   ]
  },
  {
   "cell_type": "code",
   "execution_count": 21,
   "metadata": {},
   "outputs": [],
   "source": [
    "WriteStringToScript(BashScript,os.path.join(Root,FolderProject,\"Run.sh\"))"
   ]
  },
  {
   "cell_type": "code",
   "execution_count": 22,
   "metadata": {},
   "outputs": [
    {
     "data": {
      "text/plain": [
       "0"
      ]
     },
     "execution_count": 22,
     "metadata": {},
     "output_type": "execute_result"
    }
   ],
   "source": [
    "a = \"chmod +x \"\n",
    "b = os.path.join(Root,FolderProject,\"Run.sh\")\n",
    "commandbash = a + b\n",
    "subprocess.call(commandbash,shell = True)"
   ]
  },
  {
   "cell_type": "code",
   "execution_count": 23,
   "metadata": {},
   "outputs": [],
   "source": [
    "z = \"cd \" + os.path.join(Root,FolderProject)\n",
    "a = ConvertAndRunScript(JupyterRoot,PythonRoot,Root,FolderProject,\"BuildBatch\")\n",
    "b = ConvertAndRunScript(JupyterRoot,PythonRoot,Root,FolderProject,\"BuildRef\")\n",
    "c = ConvertAndRunScript(JupyterRoot,PythonRoot,Root,FolderProject,\"RemoveIrrelevant\")\n",
    "d = ConvertAndRunScript(JupyterRoot,PythonRoot,Root,FolderProject,\"UpdateRef\")\n",
    "e = ConvertAndRunScript(JupyterRoot,PythonRoot,Root,FolderProject,\"DefineGraph\")\n",
    "f = ConvertAndRunScript(JupyterRoot,PythonRoot,Root,FolderProject,\"CleaningRT\")\n",
    "\n",
    "StringScript = z + \"\\n\\n\" + a + \"\\n\\n\" + b + \"\\n\\n\" + c  + \"\\n\\n\" + d  + \"\\n\\n\" + e   + \"\\n\\n\" + f\n",
    "WriteStringToFile(StringScript,os.path.join(Root,FolderProject,\"UpRef.sh\"))"
   ]
  },
  {
   "cell_type": "code",
   "execution_count": 24,
   "metadata": {},
   "outputs": [
    {
     "data": {
      "text/plain": [
       "0"
      ]
     },
     "execution_count": 24,
     "metadata": {},
     "output_type": "execute_result"
    }
   ],
   "source": [
    "a = \"chmod +x \"\n",
    "b = os.path.join(Root,FolderProject,\"UpRef.sh\")\n",
    "commandbash = a + b\n",
    "subprocess.call(commandbash,shell = True)"
   ]
  },
  {
   "cell_type": "code",
   "execution_count": null,
   "metadata": {},
   "outputs": [],
   "source": []
  },
  {
   "cell_type": "code",
   "execution_count": null,
   "metadata": {},
   "outputs": [],
   "source": []
  },
  {
   "cell_type": "code",
   "execution_count": null,
   "metadata": {},
   "outputs": [],
   "source": []
  }
 ],
 "metadata": {
  "kernelspec": {
   "display_name": "twitter",
   "language": "python",
   "name": "twitter"
  },
  "language_info": {
   "codemirror_mode": {
    "name": "ipython",
    "version": 3
   },
   "file_extension": ".py",
   "mimetype": "text/x-python",
   "name": "python",
   "nbconvert_exporter": "python",
   "pygments_lexer": "ipython3",
   "version": "3.6.7"
  }
 },
 "nbformat": 4,
 "nbformat_minor": 2
}
