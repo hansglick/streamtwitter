{
 "cells": [
  {
   "cell_type": "code",
   "execution_count": 2,
   "metadata": {},
   "outputs": [],
   "source": [
    "import pandas as pd\n",
    "import numpy as np\n",
    "from ast import literal_eval"
   ]
  },
  {
   "cell_type": "code",
   "execution_count": 3,
   "metadata": {},
   "outputs": [],
   "source": [
    "def RetrieveTweetsFromLastPoint(filename,LineMemorisied):\n",
    "\n",
    "    # Initialisation\n",
    "    maliste = []\n",
    "    errors = 0\n",
    "    ntweets = 0\n",
    "    \n",
    "    # Read New Tweets\n",
    "    with open(filename) as fp:\n",
    "        for line in fp:\n",
    "            ntweets = ntweets + 1 \n",
    "            if ntweets > LineMemorisied:\n",
    "                try:\n",
    "                    item = literal_eval(line)\n",
    "                    if type(item) is dict:\n",
    "                        maliste.append(item)\n",
    "                except:\n",
    "                    errors = errors + 1\n",
    "\n",
    "    return maliste,errors,ntweets,LineMemorisied"
   ]
  },
  {
   "cell_type": "code",
   "execution_count": 4,
   "metadata": {},
   "outputs": [],
   "source": [
    "filename=\"tweets.trackRet\"\n",
    "df,errors,ntweets,l0 = RetrieveTweetsFromLastPoint(filename,0)\n",
    "df = pd.DataFrame(df)"
   ]
  },
  {
   "cell_type": "code",
   "execution_count": 15,
   "metadata": {},
   "outputs": [
    {
     "data": {
      "text/plain": [
       "['USERNAME',\n",
       " 'USERFNAME',\n",
       " 'USERID',\n",
       " 'USERVERIFIED',\n",
       " 'USERDESCRIPTION',\n",
       " 'USERFOLLOWERS',\n",
       " 'TWEETID',\n",
       " 'TWEETCONTENT',\n",
       " 'TWEETHASHTAGS',\n",
       " 'TWEETTIMESTAMP',\n",
       " 'AUTHORNAME',\n",
       " 'AUTHORFNAME',\n",
       " 'AUTHORID',\n",
       " 'AUTHORVERIFIED',\n",
       " 'AUTHORDESCRIPTION',\n",
       " 'AUTHORFOLLOWERS',\n",
       " 'AUTHORTWEETID',\n",
       " 'AUTHORTWEETCONTENT',\n",
       " 'AUTHORTWEETTIMESTAMP',\n",
       " 'ISRETWEET']"
      ]
     },
     "execution_count": 15,
     "metadata": {},
     "output_type": "execute_result"
    }
   ],
   "source": [
    "list(df)"
   ]
  },
  {
   "cell_type": "code",
   "execution_count": 39,
   "metadata": {},
   "outputs": [
    {
     "name": "stdout",
     "output_type": "stream",
     "text": [
      "Dans l'attente du nouveau projet de loi sur les retraites, découvrez le livre blanc de la fédération avec ses propo… https://t.co/kzvEsa8e0g\n",
      "\n",
      "\n",
      "🔴MÉDIAS COMPLICES! Quand Léa Salamé est forcée par les réseaux sociaux de dire hier soir qu’une des personnes invit… https://t.co/wraMErGkjL\n",
      "\n",
      "\n",
      "🔴MÉDIAS COMPLICES! Quand Léa Salamé est forcée par les réseaux sociaux de dire hier soir qu’une des personnes invit… https://t.co/wraMErGkjL\n",
      "\n",
      "\n",
      "Avec une étape prochaine à 66 ans... M’est avis qu’il va falloir se pencher rapidement sur le système de retraite d… https://t.co/64HG2BOn2F\n",
      "\n",
      "\n",
      "\n",
      "\n",
      "\n"
     ]
    }
   ],
   "source": [
    "x = 100\n",
    "step = 5\n",
    "for i in range(len(df[x:x+step])):\n",
    "    print(df.AUTHORTWEETCONTENT.loc[x+i])\n",
    "    print(\"\")\n",
    "    print(\"\")"
   ]
  },
  {
   "cell_type": "code",
   "execution_count": 40,
   "metadata": {},
   "outputs": [
    {
     "name": "stdout",
     "output_type": "stream",
     "text": [
      "\n"
     ]
    }
   ],
   "source": [
    "print(df.AUTHORTWEETCONTENT.loc[105])"
   ]
  },
  {
   "cell_type": "code",
   "execution_count": 41,
   "metadata": {},
   "outputs": [
    {
     "data": {
      "text/plain": [
       "USERNAME                                                        FBerdougo\n",
       "USERFNAME                                               François Berdougo\n",
       "USERID                                                          970932655\n",
       "USERVERIFIED                                                        False\n",
       "USERDESCRIPTION         🦄🐻 #VIH #sida #santépublique #droitsdesmalades...\n",
       "USERFOLLOWERS                                                        2401\n",
       "TWEETID                                               1215623893685297153\n",
       "TWEETCONTENT            Die-in au Palais de Justice de Paris. #Retrait...\n",
       "TWEETHASHTAGS           [{'text': 'Retraites', 'indices': [38, 48]}, {...\n",
       "TWEETTIMESTAMP                             Fri Jan 10 13:18:16 +0000 2020\n",
       "AUTHORNAME                                                               \n",
       "AUTHORFNAME                                                              \n",
       "AUTHORID                                                                 \n",
       "AUTHORVERIFIED                                                           \n",
       "AUTHORDESCRIPTION                                                        \n",
       "AUTHORFOLLOWERS                                                          \n",
       "AUTHORTWEETID                                                            \n",
       "AUTHORTWEETCONTENT                                                       \n",
       "AUTHORTWEETTIMESTAMP                                                     \n",
       "ISRETWEET                                                           False\n",
       "Name: 105, dtype: object"
      ]
     },
     "execution_count": 41,
     "metadata": {},
     "output_type": "execute_result"
    }
   ],
   "source": [
    "df.loc[105]"
   ]
  },
  {
   "cell_type": "code",
   "execution_count": 137,
   "metadata": {},
   "outputs": [],
   "source": [
    "data = [{\"a\":44,\"b\":\"salit\"},\n",
    "{\"a\":44,\"b\":\"st\"},\n",
    "{\"a\":0,\"b\":\"fg\"},\n",
    "{\"a\":44,\"b\":\"salit\"},\n",
    "{\"b\":\"si\"},\n",
    "{\"a\":44,\"b\":\"salit\"}]"
   ]
  },
  {
   "cell_type": "code",
   "execution_count": 139,
   "metadata": {},
   "outputs": [
    {
     "data": {
      "text/html": [
       "<div>\n",
       "<style scoped>\n",
       "    .dataframe tbody tr th:only-of-type {\n",
       "        vertical-align: middle;\n",
       "    }\n",
       "\n",
       "    .dataframe tbody tr th {\n",
       "        vertical-align: top;\n",
       "    }\n",
       "\n",
       "    .dataframe thead th {\n",
       "        text-align: right;\n",
       "    }\n",
       "</style>\n",
       "<table border=\"1\" class=\"dataframe\">\n",
       "  <thead>\n",
       "    <tr style=\"text-align: right;\">\n",
       "      <th></th>\n",
       "      <th>a</th>\n",
       "      <th>b</th>\n",
       "    </tr>\n",
       "  </thead>\n",
       "  <tbody>\n",
       "    <tr>\n",
       "      <th>0</th>\n",
       "      <td>44.0</td>\n",
       "      <td>salit</td>\n",
       "    </tr>\n",
       "    <tr>\n",
       "      <th>1</th>\n",
       "      <td>44.0</td>\n",
       "      <td>st</td>\n",
       "    </tr>\n",
       "    <tr>\n",
       "      <th>2</th>\n",
       "      <td>0.0</td>\n",
       "      <td>salit</td>\n",
       "    </tr>\n",
       "    <tr>\n",
       "      <th>3</th>\n",
       "      <td>44.0</td>\n",
       "      <td>salit</td>\n",
       "    </tr>\n",
       "    <tr>\n",
       "      <th>5</th>\n",
       "      <td>44.0</td>\n",
       "      <td>salit</td>\n",
       "    </tr>\n",
       "  </tbody>\n",
       "</table>\n",
       "</div>"
      ],
      "text/plain": [
       "      a      b\n",
       "0  44.0  salit\n",
       "1  44.0     st\n",
       "2   0.0  salit\n",
       "3  44.0  salit\n",
       "5  44.0  salit"
      ]
     },
     "execution_count": 139,
     "metadata": {},
     "output_type": "execute_result"
    }
   ],
   "source": [
    "pd.DataFrame(data).dropna()"
   ]
  },
  {
   "cell_type": "markdown",
   "metadata": {},
   "source": [
    "# Step I, création des batchs"
   ]
  },
  {
   "cell_type": "markdown",
   "metadata": {},
   "source": [
    "On part du dataframe des retweets DF :\n",
    " 1. On construit un **batch des influenceurs** (ceux qui se font rt)\n",
    "  * ID de l'influenceur\n",
    "  * Screen name\n",
    "  * Title\n",
    "  * Description\n",
    "  * Followers\n",
    " 2. On construit un **batch des rt**\n",
    "  * ID du tweet simple\n",
    "  * ID du tweet rt\n",
    "  * ID du user\n",
    "  * ID du influenceur\n",
    "  * Timestamp du tweet\n",
    " 3. On construit un **batch des tweets repris**\n",
    "  * ID du influenceur\n",
    "  * ID du tweet repris\n",
    "  * Contenu du tweet repris\n",
    "  * Timestamp du tweet repris\n",
    " 4. Suppression des tweets batchés présents dans la bassine à tweets\n",
    " 5. Créations des **logs**\n",
    "  * ID Batch\n",
    "  * Date début\n",
    "  * Date fin\n",
    "  * Durée\n",
    "  * Nombre de *retweets*\n",
    "  * Nombre d'influenceurs\n",
    "  * Nombre de tweets repris\n",
    "  * Nombre de users\n",
    "\n",
    "  "
   ]
  },
  {
   "cell_type": "markdown",
   "metadata": {},
   "source": [
    "# Step II, Empilement des batchs"
   ]
  },
  {
   "cell_type": "markdown",
   "metadata": {},
   "source": [
    " * **Table Influenceurs**\n",
    "  * Append des batch influenceurs\n",
    "  * Déduplication des lignes\n",
    "  * Logs :\n",
    "    * Timestamp de l'append\n",
    "    * Nombre d'influenceurs\n",
    " * **Table RT**\n",
    "  * Append des batch rt\n",
    "  * Aucune déduplication\n",
    "  * Logs\n",
    "    * Timestamp de l'append\n",
    "    * Nombre de retweets\n",
    "    * Nombre d'influenceurs\n",
    "    * Nombre de users\n",
    "    * Nombre de tweets repris\n",
    " * **Table Tweets**\n",
    "  * Append des batch tweets\n",
    "  * Logs : \n",
    "    * Timestamp de l'append\n",
    "    * Nombre de tweets repris"
   ]
  },
  {
   "cell_type": "markdown",
   "metadata": {},
   "source": [
    "# Step III, MAJ des tables\n",
    " * En gros, MAJ de la table des RT. En conséquence, MAJ de la table des Tweets.\n",
    "   * Suppression des tweets trop peu influençants sur un cycle défini\n",
    "   * Election des tweets très influençants sur un cycle défini"
   ]
  },
  {
   "cell_type": "code",
   "execution_count": null,
   "metadata": {},
   "outputs": [],
   "source": [
    "Les tweets ont deux statuts S1 et S2"
   ]
  },
  {
   "cell_type": "code",
   "execution_count": null,
   "metadata": {},
   "outputs": [],
   "source": [
    "Pour un statut Sx en particulier"
   ]
  },
  {
   "cell_type": "code",
   "execution_count": null,
   "metadata": {},
   "outputs": [],
   "source": [
    "En gros, les tweets avec un statut True ne peuvent être effacés (totem)\n",
    "Seuls les tweets éligibles avec un statut False ET mappés vers un bac éligible peuvent être removed"
   ]
  },
  {
   "cell_type": "code",
   "execution_count": null,
   "metadata": {},
   "outputs": [],
   "source": [
    "Statistiques sur les tweets éligibles"
   ]
  },
  {
   "cell_type": "code",
   "execution_count": null,
   "metadata": {},
   "outputs": [],
   "source": [
    "IDs to remove = rank low stats"
   ]
  },
  {
   "cell_type": "code",
   "execution_count": null,
   "metadata": {},
   "outputs": [],
   "source": [
    "IDs to keep = rank high stats"
   ]
  },
  {
   "cell_type": "code",
   "execution_count": null,
   "metadata": {},
   "outputs": [],
   "source": [
    "Suppression des tweets de la table RT et Tweets simples"
   ]
  },
  {
   "cell_type": "code",
   "execution_count": null,
   "metadata": {},
   "outputs": [],
   "source": [
    "MAJ des status dans les tables RT et et tweets simples"
   ]
  },
  {
   "cell_type": "markdown",
   "metadata": {},
   "source": [
    "# Step IV, le sample Graph"
   ]
  },
  {
   "cell_type": "markdown",
   "metadata": {},
   "source": [
    "En bref, sur l'ensemble de la période de collecte, on sample des liens et on crée un graph aplatie.\n",
    "On calcule ds clusters de ce graph."
   ]
  },
  {
   "cell_type": "markdown",
   "metadata": {},
   "source": [
    "# Step V, Graph Sliding Window"
   ]
  },
  {
   "cell_type": "markdown",
   "metadata": {},
   "source": [
    " * On a à disposition deux tables, les RT et les TW.\n",
    " * On a à disposition deux paramètres : \n",
    "   * Taille de la fenêtre\n",
    "   * Taille du step\n",
    " * Pour fenêtre, on calcule trois choses : \n",
    "   * Les liens entre les influenceurs du graph\n",
    "   * Les top mots représentant les clusters du graph"
   ]
  },
  {
   "cell_type": "markdown",
   "metadata": {},
   "source": [
    "Partie I : **Dynamic Graph, Focus Attention**, \n",
    " * Un lien a une espèce de durée de vie\n",
    " * A chaque instant, tu calcules les clusters selon des windows de plusieurs taille\n",
    "{ * pour chaque communauté"
   ]
  },
  {
   "cell_type": "code",
   "execution_count": 15,
   "metadata": {},
   "outputs": [],
   "source": [
    "dicodds = {\"lal\" : 3.6,\n",
    "           \"lac\" : 3.8,\n",
    "           \"mil\" : 3.9,\n",
    "           \"uta\" : 16}"
   ]
  },
  {
   "cell_type": "code",
   "execution_count": 36,
   "metadata": {},
   "outputs": [],
   "source": [
    "dicdist = {\"lal\" : 0.380,\n",
    "           \"lac\" : 0.320,\n",
    "           \"mil\" : 0.300}"
   ]
  },
  {
   "cell_type": "code",
   "execution_count": 37,
   "metadata": {},
   "outputs": [],
   "source": [
    "volume = 1000"
   ]
  },
  {
   "cell_type": "code",
   "execution_count": 38,
   "metadata": {},
   "outputs": [],
   "source": [
    "def evaluate_strategy(dicodds,dicdist,volume,winningteam):\n",
    "    \n",
    "    if sum(list(dicdist.values())) != 1:\n",
    "        return(\"pas égal à 1\")\n",
    "    else:\n",
    "        gain = dicdist[winningteam]*volume*dicodds[winningteam] - volume\n",
    "    \n",
    "    return gain"
   ]
  },
  {
   "cell_type": "code",
   "execution_count": 45,
   "metadata": {},
   "outputs": [
    {
     "name": "stdout",
     "output_type": "stream",
     "text": [
      "368.0\n",
      "216.0\n",
      "170.0\n"
     ]
    }
   ],
   "source": [
    "for item in dicdist.keys():\n",
    "    print(evaluate_strategy(dicodds,dicdist,volume,item))"
   ]
  },
  {
   "cell_type": "code",
   "execution_count": null,
   "metadata": {},
   "outputs": [],
   "source": []
  }
 ],
 "metadata": {
  "kernelspec": {
   "display_name": "twitter",
   "language": "python",
   "name": "twitter"
  },
  "language_info": {
   "codemirror_mode": {
    "name": "ipython",
    "version": 3
   },
   "file_extension": ".py",
   "mimetype": "text/x-python",
   "name": "python",
   "nbconvert_exporter": "python",
   "pygments_lexer": "ipython3",
   "version": "3.6.7"
  }
 },
 "nbformat": 4,
 "nbformat_minor": 2
}
