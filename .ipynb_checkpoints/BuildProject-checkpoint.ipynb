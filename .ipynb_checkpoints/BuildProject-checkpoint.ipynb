{
 "cells": [
  {
   "cell_type": "code",
   "execution_count": 1,
   "metadata": {},
   "outputs": [],
   "source": [
    "import sys\n",
    "import os\n",
    "import json\n",
    "from shutil import copyfile\n",
    "import subprocess\n",
    "%load_ext autoreload\n",
    "%autoreload 2"
   ]
  },
  {
   "cell_type": "markdown",
   "metadata": {},
   "source": [
    "# Parameters"
   ]
  },
  {
   "cell_type": "code",
   "execution_count": 3,
   "metadata": {},
   "outputs": [],
   "source": [
    "JupyterRoot = \"/home/osboxes/anaconda3/bin/jupyter\"\n",
    "PythonRoot = \"/home/osboxes/anaconda3/envs/twitter/bin/python\"\n",
    "Root = \"/home/osboxes/proj/streamtwitter/\"\n",
    "LangList = ['fr']\n",
    "FolderProject = \"trackCrispation\"\n",
    "TrendingTopics = [\"islam\",\"discrimination\",\"stigmatisation\",\"discriminé\",\"stigmatisé\",\n",
    "                  \"terrorisme\",\n",
    "                  \"hijab\",\n",
    "                  \"hidjab\",\n",
    "                  \"islamophobe\",\n",
    "                  \"islamophobie\",\n",
    "                  \"islamisme\",\n",
    "                  \"islamiste\",\n",
    "                  \"islamo-gauchisme\",\n",
    "                  \"islamogauchisme\",\n",
    "                  \"islamo-gauchiste\",\n",
    "                  \"islamogauchiste\",\n",
    "                  \"raciste\",\n",
    "                  \"racisme\",\n",
    "                  \"white privilege\",\n",
    "                  \"privilège blanc\",\n",
    "                  \"patriarcat blanc\",\n",
    "                  \"intersectionalité\",\n",
    "                  \"anitsionisme\",\n",
    "                  \"sionisme\",\n",
    "                  \"sioniste\",\n",
    "                  \"antisioniste\",\n",
    "                  \"colonialisme\",\n",
    "                  \"colon\",\n",
    "                  \"colons\",\n",
    "                  \"colonialiste\",\n",
    "                  \"black face\",\n",
    "                  \"blackface\"]\n",
    "AuthFilename = \"auth1.password\"\n",
    "TweetsFilename = \"tweets.data\"\n",
    "bassine_size = 3600*1\n",
    "bassine_recul = 3600*1\n",
    "bassine_threshold = 75\n",
    "\n",
    "DicConfig = {\"Root\" : Root,\n",
    "             \"LangList\" : LangList,\n",
    "             \"FolderProject\" : FolderProject,\n",
    "             \"TrendingTopics\" : TrendingTopics,\n",
    "             \"AuthFilename\" : AuthFilename,\n",
    "             \"TweetsFilename\":TweetsFilename,\n",
    "             \"JupyterRoot\":JupyterRoot,\n",
    "             \"PythonRoot\":PythonRoot,\n",
    "             \"bassine_size\":bassine_size,\n",
    "             \"bassine_recul\":bassine_recul,\n",
    "             \"bassine_threshold\":bassine_threshold}\n",
    "\n",
    "sys.path.append(Root)\n",
    "from fun import *"
   ]
  },
  {
   "cell_type": "code",
   "execution_count": 4,
   "metadata": {},
   "outputs": [],
   "source": [
    "CreateFolder(Root,FolderProject)"
   ]
  },
  {
   "cell_type": "code",
   "execution_count": 5,
   "metadata": {},
   "outputs": [],
   "source": [
    "SaveConfig(DicConfig,Root,FolderProject)"
   ]
  },
  {
   "cell_type": "code",
   "execution_count": 6,
   "metadata": {},
   "outputs": [],
   "source": [
    "StringScript = WriteStreamPythonString(Root,FolderProject)"
   ]
  },
  {
   "cell_type": "code",
   "execution_count": 7,
   "metadata": {},
   "outputs": [],
   "source": [
    "WriteStringToScript(StringScript,os.path.join(Root,FolderProject,\"RunTracking.py\"))"
   ]
  },
  {
   "cell_type": "code",
   "execution_count": 8,
   "metadata": {},
   "outputs": [],
   "source": [
    "BashScript = WriteStreamBashString(PythonRoot,TweetsFilename)"
   ]
  },
  {
   "cell_type": "code",
   "execution_count": 9,
   "metadata": {},
   "outputs": [],
   "source": [
    "WriteStringToScript(BashScript,os.path.join(Root,FolderProject,\"Run.sh\"))"
   ]
  },
  {
   "cell_type": "code",
   "execution_count": 10,
   "metadata": {},
   "outputs": [
    {
     "data": {
      "text/plain": [
       "0"
      ]
     },
     "execution_count": 10,
     "metadata": {},
     "output_type": "execute_result"
    }
   ],
   "source": [
    "a = \"chmod +x \"\n",
    "b = os.path.join(Root,FolderProject,\"Run.sh\")\n",
    "commandbash = a + b\n",
    "subprocess.call(commandbash,shell = True)"
   ]
  },
  {
   "cell_type": "code",
   "execution_count": 11,
   "metadata": {},
   "outputs": [],
   "source": [
    "a = ConvertAndRunScript(JupyterRoot,PythonRoot,Root,FolderProject,\"BuildBatch\")\n",
    "b = ConvertAndRunScript(JupyterRoot,PythonRoot,Root,FolderProject,\"BuildRef\")\n",
    "StringScript = a + \"\\n\\n\" + b\n",
    "WriteStringToFile(StringScript,os.path.join(Root,FolderProject,\"UpRef.sh\"))"
   ]
  },
  {
   "cell_type": "code",
   "execution_count": 12,
   "metadata": {},
   "outputs": [
    {
     "data": {
      "text/plain": [
       "0"
      ]
     },
     "execution_count": 12,
     "metadata": {},
     "output_type": "execute_result"
    }
   ],
   "source": [
    "a = \"chmod +x \"\n",
    "b = os.path.join(Root,FolderProject,\"UpRef.sh\")\n",
    "commandbash = a + b\n",
    "subprocess.call(commandbash,shell = True)"
   ]
  },
  {
   "cell_type": "code",
   "execution_count": null,
   "metadata": {},
   "outputs": [],
   "source": []
  },
  {
   "cell_type": "code",
   "execution_count": null,
   "metadata": {},
   "outputs": [],
   "source": []
  },
  {
   "cell_type": "code",
   "execution_count": null,
   "metadata": {},
   "outputs": [],
   "source": []
  }
 ],
 "metadata": {
  "kernelspec": {
   "display_name": "twitter",
   "language": "python",
   "name": "twitter"
  },
  "language_info": {
   "codemirror_mode": {
    "name": "ipython",
    "version": 3
   },
   "file_extension": ".py",
   "mimetype": "text/x-python",
   "name": "python",
   "nbconvert_exporter": "python",
   "pygments_lexer": "ipython3",
   "version": "3.6.7"
  }
 },
 "nbformat": 4,
 "nbformat_minor": 2
}
