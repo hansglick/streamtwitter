{
 "cells": [
  {
   "cell_type": "code",
   "execution_count": 4,
   "metadata": {},
   "outputs": [],
   "source": [
    "import pandas as pd\n",
    "import json\n",
    "import pickle\n",
    "import os\n",
    "import itertools\n",
    "from ast import literal_eval\n",
    "import numpy as np\n",
    "import sys\n",
    "from datetime import datetime\n",
    "from IPython.display import clear_output, display\n",
    "from FunBuildBatch import *\n",
    "pd.options.display.float_format = '{:.0f}'.format"
   ]
  },
  {
   "cell_type": "code",
   "execution_count": 5,
   "metadata": {},
   "outputs": [],
   "source": [
    "%%time\n",
    "DicConfig = LoadJsonFile(os.path.join(os.getcwd(),\"config.json\"),\"somejson\")\n",
    "GlobalDicDeplier(DicConfig)\n",
    "tweetslist,errors = ReadTweetsToList(Root,FolderProject,TweetsFilename)"
   ]
  },
  {
   "cell_type": "code",
   "execution_count": 6,
   "metadata": {},
   "outputs": [
    {
     "name": "stdout",
     "output_type": "stream",
     "text": [
      "CPU times: user 31.8 s, sys: 673 ms, total: 32.5 s\n",
      "Wall time: 32.5 s\n"
     ]
    }
   ],
   "source": [
    "%%time\n",
    "f = \"%a %b %d %H:%M:%S +0000 %Y\"\n",
    "df = pd.DataFrame(tweetslist)\n",
    "df.TWEETTIMESTAMP = pd.to_datetime(df.TWEETTIMESTAMP,format = f, errors='ignore')\n",
    "df[\"TWEETUNIXEPOCH\"] = df.TWEETTIMESTAMP.map(lambda a : a.value // 10**9)\n",
    "df.TWEETUNIXEPOCH = df.TWEETUNIXEPOCH + 3600"
   ]
  },
  {
   "cell_type": "code",
   "execution_count": 7,
   "metadata": {},
   "outputs": [
    {
     "name": "stdout",
     "output_type": "stream",
     "text": [
      "CPU times: user 57.2 s, sys: 3.4 s, total: 1min\n",
      "Wall time: 58.8 s\n"
     ]
    }
   ],
   "source": [
    "%%time\n",
    "df = df.replace({'True':True,'False':False})\n",
    "df.USERID = pd.to_numeric(df.USERID,errors=\"coerce\")\n",
    "df.USERFOLLOWERS = pd.to_numeric(df.USERFOLLOWERS,errors=\"coerce\")\n",
    "df.TWEETID = pd.to_numeric(df.TWEETID,errors=\"coerce\")\n",
    "df.AUTHORID = pd.to_numeric(df.AUTHORID,errors=\"coerce\")\n",
    "df.AUTHORFOLLOWERS = pd.to_numeric(df.AUTHORFOLLOWERS,errors=\"coerce\")\n",
    "df.AUTHORTWEETID = pd.to_numeric(df.AUTHORTWEETID,errors=\"coerce\")\n",
    "df.TWEETUNIXEPOCH = pd.to_numeric(df.TWEETUNIXEPOCH,errors=\"coerce\")"
   ]
  },
  {
   "cell_type": "code",
   "execution_count": 8,
   "metadata": {},
   "outputs": [
    {
     "name": "stdout",
     "output_type": "stream",
     "text": [
      "CPU times: user 24.5 s, sys: 785 ms, total: 25.3 s\n",
      "Wall time: 24.3 s\n"
     ]
    }
   ],
   "source": [
    "%%time\n",
    "dfrt = df.copy()[df.ISRETWEET]\n",
    "dfrt.dropna(inplace=True)\n",
    "dfrt.AUTHORTWEETTIMESTAMP = pd.to_datetime(dfrt.AUTHORTWEETTIMESTAMP,format = f, errors='ignore')\n",
    "dfrt[\"AUTHORTWEETUNIXEPOCH\"] = dfrt.AUTHORTWEETTIMESTAMP.map(lambda a : a.value // 10**9)\n",
    "dfrt.AUTHORTWEETUNIXEPOCH = dfrt.AUTHORTWEETUNIXEPOCH + 3600\n",
    "\n",
    "\n",
    "dfsimple = df.copy()[~df.ISRETWEET]\n",
    "vartoremove = [ 'AUTHORNAME',\n",
    " 'AUTHORFNAME',\n",
    " 'AUTHORID',\n",
    " 'AUTHORVERIFIED',\n",
    " 'AUTHORDESCRIPTION',\n",
    " 'AUTHORFOLLOWERS',\n",
    " 'AUTHORTWEETID',\n",
    " 'AUTHORTWEETCONTENT',\n",
    " 'AUTHORTWEETTIMESTAMP']\n",
    "dfsimple.drop(columns=vartoremove,inplace=True)\n",
    "dfsimple.dropna(inplace=True)"
   ]
  },
  {
   "cell_type": "markdown",
   "metadata": {},
   "source": [
    "# Table Influenceur"
   ]
  },
  {
   "cell_type": "code",
   "execution_count": 9,
   "metadata": {},
   "outputs": [],
   "source": [
    "keepvar = [\"AUTHORID\",\"AUTHORNAME\",\"AUTHORFNAME\",\"AUTHORDESCRIPTION\",\"AUTHORFOLLOWERS\"]\n",
    "TableInf = dfrt.copy()\n",
    "TableInf = TableInf[keepvar]\n",
    "TableInf = TableInf.groupby(\"AUTHORID\").first().reset_index()"
   ]
  },
  {
   "cell_type": "markdown",
   "metadata": {},
   "source": [
    "# Table RT"
   ]
  },
  {
   "cell_type": "code",
   "execution_count": 10,
   "metadata": {},
   "outputs": [],
   "source": [
    "keepvar = [\"TWEETID\",\"AUTHORTWEETID\",\"USERID\",\"AUTHORID\",\"TWEETUNIXEPOCH\"]\n",
    "TableRT = dfrt.copy()\n",
    "TableRT = TableRT[keepvar]"
   ]
  },
  {
   "cell_type": "markdown",
   "metadata": {},
   "source": [
    "# Table Tweet Repris\n",
    "..."
   ]
  },
  {
   "cell_type": "code",
   "execution_count": null,
   "metadata": {},
   "outputs": [],
   "source": []
  },
  {
   "cell_type": "code",
   "execution_count": null,
   "metadata": {},
   "outputs": [],
   "source": []
  },
  {
   "cell_type": "code",
   "execution_count": null,
   "metadata": {},
   "outputs": [],
   "source": []
  },
  {
   "cell_type": "code",
   "execution_count": null,
   "metadata": {},
   "outputs": [],
   "source": []
  },
  {
   "cell_type": "code",
   "execution_count": null,
   "metadata": {},
   "outputs": [],
   "source": []
  },
  {
   "cell_type": "code",
   "execution_count": null,
   "metadata": {},
   "outputs": [],
   "source": []
  },
  {
   "cell_type": "code",
   "execution_count": 10,
   "metadata": {},
   "outputs": [],
   "source": [
    "%%time\n",
    "PickleDump(os.path.join(Root,FolderProject,\"BatchTweetSimple.pkl\"),dfsimple)\n",
    "PickleDump(os.path.join(Root,FolderProject,\"BatchRetweet.pkl\"),dfrt)"
   ]
  },
  {
   "cell_type": "code",
   "execution_count": null,
   "metadata": {},
   "outputs": [],
   "source": []
  }
 ],
 "metadata": {
  "kernelspec": {
   "display_name": "twitter",
   "language": "python",
   "name": "twitter"
  },
  "language_info": {
   "codemirror_mode": {
    "name": "ipython",
    "version": 3
   },
   "file_extension": ".py",
   "mimetype": "text/x-python",
   "name": "python",
   "nbconvert_exporter": "python",
   "pygments_lexer": "ipython3",
   "version": "3.6.7"
  }
 },
 "nbformat": 4,
 "nbformat_minor": 2
}
