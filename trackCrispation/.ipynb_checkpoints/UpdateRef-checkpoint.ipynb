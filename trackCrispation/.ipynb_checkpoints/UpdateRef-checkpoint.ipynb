{
 "cells": [
  {
   "cell_type": "code",
   "execution_count": 91,
   "metadata": {},
   "outputs": [],
   "source": [
    "import pandas as pd\n",
    "import json\n",
    "import pickle\n",
    "import os\n",
    "import itertools\n",
    "from ast import literal_eval\n",
    "import numpy as np\n",
    "import sys\n",
    "from datetime import datetime\n",
    "from IPython.display import clear_output, display\n",
    "import subprocess\n",
    "from datetime import datetime\n",
    "pd.options.display.float_format = '{:.0f}'.format"
   ]
  },
  {
   "cell_type": "code",
   "execution_count": 92,
   "metadata": {},
   "outputs": [],
   "source": [
    "def LoadJsonFile(filename): \n",
    "    with open(filename, 'r') as f:\n",
    "        DicConfig = json.load(f)\n",
    "    return DicConfig\n",
    "\n",
    "\n",
    "def GlobalDicDeplier(OneDic):\n",
    "    for k,v in OneDic.items():\n",
    "        exec('globals()[k] = v')\n",
    "    return None"
   ]
  },
  {
   "cell_type": "code",
   "execution_count": 93,
   "metadata": {},
   "outputs": [
    {
     "name": "stdout",
     "output_type": "stream",
     "text": [
      "Load Config variables\n"
     ]
    }
   ],
   "source": [
    "DicConfig = LoadJsonFile(os.path.join(os.getcwd(),\"config.json\"))\n",
    "GlobalDicDeplier(DicConfig)\n",
    "sys.path.append(Root)\n",
    "from fun import *\n",
    "\n",
    "print(\"Load Config variables\")"
   ]
  },
  {
   "cell_type": "code",
   "execution_count": 94,
   "metadata": {},
   "outputs": [],
   "source": [
    "path = os.path.join(Root,FolderProject,\"ISdf.pkl\")\n",
    "ISdf = PickleLoad(path)\n",
    "\n",
    "path = os.path.join(Root,FolderProject,\"RefFam.pkl\")\n",
    "RefFam = LoadPickleOrInit(path)\n",
    "\n",
    "path = os.path.join(Root,FolderProject,\"RefRT.pkl\")\n",
    "RefRT = LoadPickleOrInit(path)"
   ]
  },
  {
   "cell_type": "code",
   "execution_count": 95,
   "metadata": {},
   "outputs": [],
   "source": [
    "RefFamMemory = RetrieveSize(os.path.join(Root,FolderProject,\"RefFam.pkl\"))\n",
    "RefRTMemory = RetrieveSize(os.path.join(Root,FolderProject,\"RefRT.pkl\"))\n",
    "RefFamRows = len(RefFam)\n",
    "RefRTRows = len(RefRT)"
   ]
  },
  {
   "cell_type": "code",
   "execution_count": 96,
   "metadata": {},
   "outputs": [],
   "source": [
    "minbassine = ISdf.BassineID.min()\n",
    "maxbassine = ISdf.BassineID.max()"
   ]
  },
  {
   "cell_type": "markdown",
   "metadata": {},
   "source": [
    "# Build KeptTweets"
   ]
  },
  {
   "cell_type": "code",
   "execution_count": 97,
   "metadata": {},
   "outputs": [],
   "source": [
    "BassineID = RefFam.AUTHORTWEETUNIXEPOCH / bassine_size\n",
    "RefFam[\"BassineID\"] = BassineID.astype(int)"
   ]
  },
  {
   "cell_type": "code",
   "execution_count": 98,
   "metadata": {},
   "outputs": [],
   "source": [
    "RefFamKO = RefFam.copy()[RefFam.status==\"ko\"]\n",
    "RefFamOK = RefFam.copy()[RefFam.status==\"ok\"]\n",
    "RefRTKO = RefRT.copy()[RefRT.status==\"ko\"]\n",
    "RefRTOK = RefRT.copy()[RefRT.status==\"ok\"]\n",
    "RefRTKO.drop(columns=\"status\",inplace=True)"
   ]
  },
  {
   "cell_type": "code",
   "execution_count": 99,
   "metadata": {},
   "outputs": [],
   "source": [
    "RefFamKORows = len(RefFamKO)\n",
    "RefFamOKRows = len(RefFamOK)\n",
    "RefRTKORows = len(RefRTKO)\n",
    "RefRTOKRows = len(RefRTOK)"
   ]
  },
  {
   "cell_type": "markdown",
   "metadata": {},
   "source": [
    "# RefFam"
   ]
  },
  {
   "cell_type": "code",
   "execution_count": 100,
   "metadata": {},
   "outputs": [],
   "source": [
    "RefFamKOa = RefFamKO.copy().merge(ISdf[\"AUTHORTWEETID\"],on=\"AUTHORTWEETID\")\n",
    "RefFamKOb = RefFamKO.copy()[RefFamKO.BassineID>maxbassine]\n",
    "RefFamKOa[\"status\"] = \"ok\"\n",
    "RefFamKOb[\"status\"] = \"ko\""
   ]
  },
  {
   "cell_type": "code",
   "execution_count": 101,
   "metadata": {},
   "outputs": [],
   "source": [
    "RefFamKOaRows = len(RefFamKOa)\n",
    "RefFamKObRows = len(RefFamKOb)"
   ]
  },
  {
   "cell_type": "code",
   "execution_count": 102,
   "metadata": {},
   "outputs": [],
   "source": [
    "RefFamKOFinal = pd.concat([RefFamKOa,RefFamKOb],axis = 0, sort = True)\n",
    "RefFamKOFinal.reset_index(drop=True,inplace=True)\n",
    "RefFamTemp = pd.concat([RefFamKOFinal,RefFamOK],axis=0,sort=True)"
   ]
  },
  {
   "cell_type": "code",
   "execution_count": 103,
   "metadata": {},
   "outputs": [],
   "source": [
    "RefFamKOFinalRows = len(RefFamKOFinal)\n",
    "RefFamTempRows = len(RefFamTemp)"
   ]
  },
  {
   "cell_type": "code",
   "execution_count": 104,
   "metadata": {},
   "outputs": [],
   "source": [
    "RefRTKO = RefRTKO.merge(RefFamKOFinal[[\"AUTHORTWEETID\",\"status\"]],on=\"AUTHORTWEETID\")\n",
    "RefRTTemp = pd.concat([RefRTKO,RefRTOK],axis=0,sort=True)\n",
    "RefRTTemp.reset_index(drop=True,inplace=True)"
   ]
  },
  {
   "cell_type": "code",
   "execution_count": 105,
   "metadata": {},
   "outputs": [],
   "source": [
    "RefRTKORows = len(RefRTKO)\n",
    "RefRTTempRows = len(RefRTTemp)\n"
   ]
  },
  {
   "cell_type": "code",
   "execution_count": 106,
   "metadata": {},
   "outputs": [],
   "source": [
    "RefFamOKKODis = RefFamTemp.status.value_counts().tolist()\n",
    "RefRTTOKKODis = RefRTTemp.status.value_counts().tolist()"
   ]
  },
  {
   "cell_type": "markdown",
   "metadata": {},
   "source": [
    "# Sauvegarde"
   ]
  },
  {
   "cell_type": "code",
   "execution_count": 107,
   "metadata": {},
   "outputs": [],
   "source": [
    "PickleDump(os.path.join(Root,FolderProject,\"RefFam.pkl\"),RefFamTemp)\n",
    "PickleDump(os.path.join(Root,FolderProject,\"RefRT.pkl\"),RefRTTemp)"
   ]
  },
  {
   "cell_type": "markdown",
   "metadata": {},
   "source": [
    "# Logs"
   ]
  },
  {
   "cell_type": "code",
   "execution_count": 108,
   "metadata": {},
   "outputs": [],
   "source": [
    "RefRTTempMemory = RetrieveSize(os.path.join(Root,FolderProject,\"RefFam.pkl\"))\n",
    "RefFamTempMemory = RetrieveSize(os.path.join(Root,FolderProject,\"RefRT.pkl\"))"
   ]
  },
  {
   "cell_type": "code",
   "execution_count": 109,
   "metadata": {},
   "outputs": [],
   "source": [
    "UpLogs = {\"DateRun\" : GetCurrentTime(),\n",
    "\"RefFamMemory\" : RefFamMemory,\n",
    "\"RefRTMemory\" : RefRTMemory,\n",
    "\"RefFamRows\" : FormatNumber(RefFamRows),\n",
    "\"RefRTRows\"  : FormatNumber(RefRTRows),\n",
    "\"minbassine\" : minbassine,\n",
    "\"maxbassine\" : maxbassine,\n",
    "\"RefFamKORows\"  : FormatNumber(RefFamKORows),\n",
    "\"RefFamOKRows\"  : FormatNumber(RefFamOKRows),\n",
    "\"RefRTKORows\"  : FormatNumber(RefRTKORows),\n",
    "\"RefRTOKRows\"  : FormatNumber(RefRTOKRows),\n",
    "\"RefFamKOaRows\"  : FormatNumber(RefFamKOaRows),\n",
    "\"RefFamKObRows\"  : FormatNumber(RefFamKObRows),\n",
    "\"RefFamKOFinalRows\" : FormatNumber(RefFamKOFinalRows),\n",
    "\"RefFamTempRows\"  : FormatNumber(RefFamTempRows),\n",
    "\"RefRTKORows\"  : FormatNumber(RefRTKORows),\n",
    "\"RefRTTempRows\"  : FormatNumber(RefRTTempRows),\n",
    "\"RefFamOKKODis\" : RefFamOKKODis,\n",
    "\"RefRTTOKKODis\" : RefRTTOKKODis,\n",
    "\"RefRTTempMemory\": RefRTTempMemory,\n",
    "\"RefFamTempMemory\":RefFamTempMemory}"
   ]
  },
  {
   "cell_type": "code",
   "execution_count": 110,
   "metadata": {},
   "outputs": [
    {
     "name": "stdout",
     "output_type": "stream",
     "text": [
      "Write logs\n"
     ]
    }
   ],
   "source": [
    "filename = os.path.join(Root,FolderProject,\"Up.log\")\n",
    "AppendStringToFile(filename,UpLogs)\n",
    "\n",
    "print(\"Write logs\")"
   ]
  },
  {
   "cell_type": "code",
   "execution_count": null,
   "metadata": {},
   "outputs": [],
   "source": []
  }
 ],
 "metadata": {
  "kernelspec": {
   "display_name": "twitter",
   "language": "python",
   "name": "twitter"
  },
  "language_info": {
   "codemirror_mode": {
    "name": "ipython",
    "version": 3
   },
   "file_extension": ".py",
   "mimetype": "text/x-python",
   "name": "python",
   "nbconvert_exporter": "python",
   "pygments_lexer": "ipython3",
   "version": "3.6.7"
  }
 },
 "nbformat": 4,
 "nbformat_minor": 2
}
