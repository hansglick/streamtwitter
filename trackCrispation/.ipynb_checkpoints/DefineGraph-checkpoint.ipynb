{
 "cells": [
  {
   "cell_type": "code",
   "execution_count": 50,
   "metadata": {},
   "outputs": [],
   "source": [
    "import pandas as pd\n",
    "import json\n",
    "import pickle\n",
    "import os\n",
    "import itertools\n",
    "from ast import literal_eval\n",
    "import numpy as np\n",
    "import sys\n",
    "from datetime import datetime\n",
    "from IPython.display import clear_output, display\n",
    "import subprocess\n",
    "from datetime import datetime\n",
    "pd.options.display.float_format = '{:.0f}'.format"
   ]
  },
  {
   "cell_type": "code",
   "execution_count": 51,
   "metadata": {},
   "outputs": [],
   "source": [
    "def LoadJsonFile(filename): \n",
    "    with open(filename, 'r') as f:\n",
    "        DicConfig = json.load(f)\n",
    "    return DicConfig\n",
    "\n",
    "\n",
    "def GlobalDicDeplier(OneDic):\n",
    "    for k,v in OneDic.items():\n",
    "        exec('globals()[k] = v')\n",
    "    return None"
   ]
  },
  {
   "cell_type": "code",
   "execution_count": 52,
   "metadata": {},
   "outputs": [
    {
     "name": "stdout",
     "output_type": "stream",
     "text": [
      "Load Config variables\n"
     ]
    }
   ],
   "source": [
    "DicConfig = LoadJsonFile(os.path.join(os.getcwd(),\"config.json\"))\n",
    "GlobalDicDeplier(DicConfig)\n",
    "sys.path.append(Root)\n",
    "from fun import *\n",
    "\n",
    "print(\"Load Config variables\")"
   ]
  },
  {
   "cell_type": "code",
   "execution_count": 53,
   "metadata": {},
   "outputs": [],
   "source": [
    "path = os.path.join(Root,FolderProject,\"RefFam.pkl\")\n",
    "RefFam = LoadPickleOrInit(path)\n",
    "\n",
    "path = os.path.join(Root,FolderProject,\"RefRT.pkl\")\n",
    "RefRT = LoadPickleOrInit(path)\n",
    "\n",
    "tweetsdf = RefFam.copy()[RefFam.status==\"ok\"]\n",
    "rtdf = RefRT.copy()[RefRT.status==\"ok\"]"
   ]
  },
  {
   "cell_type": "code",
   "execution_count": 30,
   "metadata": {},
   "outputs": [],
   "source": [
    "datefirst = rtdf.TWEETUNIXEPOCH.min()\n",
    "datelast = rtdf.TWEETUNIXEPOCH.max()"
   ]
  },
  {
   "cell_type": "code",
   "execution_count": 48,
   "metadata": {},
   "outputs": [],
   "source": [
    "start = datefirst\n",
    "L = []\n",
    "while(True):\n",
    "    end = start+WindowSize\n",
    "    L.append((start,end))\n",
    "    start = end - (WindowSize - StepSize)\n",
    "    if end>datelast:\n",
    "        break"
   ]
  },
  {
   "cell_type": "code",
   "execution_count": 49,
   "metadata": {},
   "outputs": [
    {
     "name": "stdout",
     "output_type": "stream",
     "text": [
      "2020-01-26 15:17:56  |||  2020-01-26 19:17:56\n",
      "2020-01-26 18:17:56  |||  2020-01-26 22:17:56\n",
      "2020-01-26 21:17:56  |||  2020-01-27 01:17:56\n",
      "2020-01-27 00:17:56  |||  2020-01-27 04:17:56\n",
      "2020-01-27 03:17:56  |||  2020-01-27 07:17:56\n",
      "2020-01-27 06:17:56  |||  2020-01-27 10:17:56\n",
      "2020-01-27 09:17:56  |||  2020-01-27 13:17:56\n",
      "2020-01-27 12:17:56  |||  2020-01-27 16:17:56\n",
      "2020-01-27 15:17:56  |||  2020-01-27 19:17:56\n"
     ]
    }
   ],
   "source": [
    "for item in L:\n",
    "    a=pd.to_datetime(item[0],unit=\"s\")\n",
    "    b=pd.to_datetime(item[1],unit=\"s\")\n",
    "    print(a,\" ||| \",b)"
   ]
  },
  {
   "cell_type": "code",
   "execution_count": null,
   "metadata": {},
   "outputs": [],
   "source": []
  }
 ],
 "metadata": {
  "kernelspec": {
   "display_name": "twitter",
   "language": "python",
   "name": "twitter"
  },
  "language_info": {
   "codemirror_mode": {
    "name": "ipython",
    "version": 3
   },
   "file_extension": ".py",
   "mimetype": "text/x-python",
   "name": "python",
   "nbconvert_exporter": "python",
   "pygments_lexer": "ipython3",
   "version": "3.6.7"
  }
 },
 "nbformat": 4,
 "nbformat_minor": 2
}
