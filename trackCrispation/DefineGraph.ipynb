{
 "cells": [
  {
   "cell_type": "code",
   "execution_count": 1,
   "metadata": {},
   "outputs": [],
   "source": [
    "import pandas as pd\n",
    "import json\n",
    "import pickle\n",
    "import os\n",
    "import itertools\n",
    "from ast import literal_eval\n",
    "import numpy as np\n",
    "import sys\n",
    "from datetime import datetime\n",
    "from IPython.display import clear_output, display\n",
    "import subprocess\n",
    "from datetime import datetime\n",
    "pd.options.display.float_format = '{:.0f}'.format"
   ]
  },
  {
   "cell_type": "code",
   "execution_count": 2,
   "metadata": {},
   "outputs": [],
   "source": [
    "def LoadJsonFile(filename): \n",
    "    with open(filename, 'r') as f:\n",
    "        DicConfig = json.load(f)\n",
    "    return DicConfig\n",
    "\n",
    "\n",
    "def GlobalDicDeplier(OneDic):\n",
    "    for k,v in OneDic.items():\n",
    "        exec('globals()[k] = v')\n",
    "    return None"
   ]
  },
  {
   "cell_type": "code",
   "execution_count": 3,
   "metadata": {},
   "outputs": [
    {
     "name": "stdout",
     "output_type": "stream",
     "text": [
      "Load Config variables\n"
     ]
    }
   ],
   "source": [
    "DicConfig = LoadJsonFile(os.path.join(os.getcwd(),\"config.json\"))\n",
    "GlobalDicDeplier(DicConfig)\n",
    "sys.path.append(Root)\n",
    "from fun import *\n",
    "\n",
    "print(\"Load Config variables\")"
   ]
  },
  {
   "cell_type": "code",
   "execution_count": 4,
   "metadata": {},
   "outputs": [],
   "source": [
    "path = os.path.join(Root,FolderProject,\"RefFam.pkl\")\n",
    "RefFam = LoadPickleOrInit(path)\n",
    "\n",
    "path = os.path.join(Root,FolderProject,\"RefRT.pkl\")\n",
    "RefRT = LoadPickleOrInit(path)\n",
    "\n",
    "tweetsdf = RefFam.copy()[RefFam.status==\"ok\"]\n",
    "rtdf = RefRT.copy()[RefRT.status==\"ok\"]"
   ]
  },
  {
   "cell_type": "code",
   "execution_count": 5,
   "metadata": {},
   "outputs": [],
   "source": [
    "datefirst = rtdf.TWEETUNIXEPOCH.min()\n",
    "datelast = rtdf.TWEETUNIXEPOCH.max()"
   ]
  },
  {
   "cell_type": "code",
   "execution_count": 9,
   "metadata": {},
   "outputs": [],
   "source": [
    "WindowList = ExtractWindows(datefirst,datelast,WindowSize,StepSize)"
   ]
  },
  {
   "cell_type": "code",
   "execution_count": null,
   "metadata": {},
   "outputs": [],
   "source": []
  },
  {
   "cell_type": "code",
   "execution_count": null,
   "metadata": {},
   "outputs": [],
   "source": []
  },
  {
   "cell_type": "code",
   "execution_count": null,
   "metadata": {},
   "outputs": [],
   "source": []
  },
  {
   "cell_type": "code",
   "execution_count": 27,
   "metadata": {},
   "outputs": [],
   "source": [
    "marka,markb = WindowList[0]"
   ]
  },
  {
   "cell_type": "code",
   "execution_count": 28,
   "metadata": {},
   "outputs": [],
   "source": [
    "rtdf = rtdf[(rtdf.TWEETUNIXEPOCH>=marka) & (rtdf.TWEETUNIXEPOCH<=markb)].reset_index(drop=True)"
   ]
  },
  {
   "cell_type": "code",
   "execution_count": 39,
   "metadata": {},
   "outputs": [],
   "source": [
    "TweetsFrequency = rtdf.groupby(\"AUTHORTWEETID\").size().reset_index().rename(columns = {0:\"f\"})"
   ]
  },
  {
   "cell_type": "code",
   "execution_count": 41,
   "metadata": {},
   "outputs": [],
   "source": [
    "TfidfData = TweetsFrequency.merge(tweetsdf)"
   ]
  },
  {
   "cell_type": "code",
   "execution_count": 50,
   "metadata": {},
   "outputs": [
    {
     "name": "stdout",
     "output_type": "stream",
     "text": [
      "Harcelez la faf pour qu'il jette cette conasse raciste et negrophile https://t.co/F7bLeVVICr\n"
     ]
    }
   ],
   "source": [
    "print(TfidfData.AUTHORTWEETCONTENT[125])"
   ]
  },
  {
   "cell_type": "code",
   "execution_count": 46,
   "metadata": {},
   "outputs": [
    {
     "data": {
      "text/html": [
       "<div>\n",
       "<style scoped>\n",
       "    .dataframe tbody tr th:only-of-type {\n",
       "        vertical-align: middle;\n",
       "    }\n",
       "\n",
       "    .dataframe tbody tr th {\n",
       "        vertical-align: top;\n",
       "    }\n",
       "\n",
       "    .dataframe thead th {\n",
       "        text-align: right;\n",
       "    }\n",
       "</style>\n",
       "<table border=\"1\" class=\"dataframe\">\n",
       "  <thead>\n",
       "    <tr style=\"text-align: right;\">\n",
       "      <th></th>\n",
       "      <th>AUTHORTWEETID</th>\n",
       "      <th>f</th>\n",
       "      <th>AUTHORID</th>\n",
       "      <th>AUTHORTWEETCONTENT</th>\n",
       "      <th>AUTHORTWEETUNIXEPOCH</th>\n",
       "      <th>BassineID</th>\n",
       "      <th>status</th>\n",
       "    </tr>\n",
       "  </thead>\n",
       "  <tbody>\n",
       "    <tr>\n",
       "      <th>0</th>\n",
       "      <td>1221432958046949120</td>\n",
       "      <td>3</td>\n",
       "      <td>627543473</td>\n",
       "      <td>Va te faire foutre, sincèrement.\\nL’Angola est...</td>\n",
       "      <td>1580050884</td>\n",
       "      <td>438903</td>\n",
       "      <td>ok</td>\n",
       "    </tr>\n",
       "    <tr>\n",
       "      <th>1</th>\n",
       "      <td>1221434397167099904</td>\n",
       "      <td>7</td>\n",
       "      <td>893519851028959232</td>\n",
       "      <td>.@gaspardgantzer Merci de rappeler à vos candi...</td>\n",
       "      <td>1580051228</td>\n",
       "      <td>438903</td>\n",
       "      <td>ok</td>\n",
       "    </tr>\n",
       "    <tr>\n",
       "      <th>2</th>\n",
       "      <td>1221434490595225600</td>\n",
       "      <td>22</td>\n",
       "      <td>529712945</td>\n",
       "      <td>Il est plus que nécessaire que les parents bla...</td>\n",
       "      <td>1580051250</td>\n",
       "      <td>438903</td>\n",
       "      <td>ok</td>\n",
       "    </tr>\n",
       "    <tr>\n",
       "      <th>3</th>\n",
       "      <td>1221435456824520704</td>\n",
       "      <td>5</td>\n",
       "      <td>2968249786</td>\n",
       "      <td>Merci @WonderSo_  pour cette essentielle mise ...</td>\n",
       "      <td>1580051480</td>\n",
       "      <td>438903</td>\n",
       "      <td>ok</td>\n",
       "    </tr>\n",
       "    <tr>\n",
       "      <th>4</th>\n",
       "      <td>1221436189842071552</td>\n",
       "      <td>9</td>\n",
       "      <td>1025507290907123456</td>\n",
       "      <td>Honnêtement ça me tient vraiment à cœur de don...</td>\n",
       "      <td>1580051655</td>\n",
       "      <td>438903</td>\n",
       "      <td>ok</td>\n",
       "    </tr>\n",
       "    <tr>\n",
       "      <th>...</th>\n",
       "      <td>...</td>\n",
       "      <td>...</td>\n",
       "      <td>...</td>\n",
       "      <td>...</td>\n",
       "      <td>...</td>\n",
       "      <td>...</td>\n",
       "      <td>...</td>\n",
       "    </tr>\n",
       "    <tr>\n",
       "      <th>124</th>\n",
       "      <td>1221494575619026944</td>\n",
       "      <td>3</td>\n",
       "      <td>957702865874771968</td>\n",
       "      <td>Je crois que beaucoup de SJW me détestent en g...</td>\n",
       "      <td>1580065575</td>\n",
       "      <td>438907</td>\n",
       "      <td>ok</td>\n",
       "    </tr>\n",
       "    <tr>\n",
       "      <th>125</th>\n",
       "      <td>1221494763251289856</td>\n",
       "      <td>7</td>\n",
       "      <td>1213253155384782848</td>\n",
       "      <td>Harcelez la faf pour qu'il jette cette conasse...</td>\n",
       "      <td>1580065620</td>\n",
       "      <td>438907</td>\n",
       "      <td>ok</td>\n",
       "    </tr>\n",
       "    <tr>\n",
       "      <th>126</th>\n",
       "      <td>1221495052507197440</td>\n",
       "      <td>10</td>\n",
       "      <td>1044928850</td>\n",
       "      <td>Le génocide par substitution, crime contre l’h...</td>\n",
       "      <td>1580065689</td>\n",
       "      <td>438907</td>\n",
       "      <td>ok</td>\n",
       "    </tr>\n",
       "    <tr>\n",
       "      <th>127</th>\n",
       "      <td>1221495236658114304</td>\n",
       "      <td>1</td>\n",
       "      <td>2333842430</td>\n",
       "      <td>C'est mieux elle reste raciste dans son coin elle</td>\n",
       "      <td>1580065733</td>\n",
       "      <td>438907</td>\n",
       "      <td>ok</td>\n",
       "    </tr>\n",
       "    <tr>\n",
       "      <th>128</th>\n",
       "      <td>1221495639642713856</td>\n",
       "      <td>2</td>\n",
       "      <td>235910137</td>\n",
       "      <td>Déplacer la gare de l’Est ? L’idée fait grince...</td>\n",
       "      <td>1580065829</td>\n",
       "      <td>438907</td>\n",
       "      <td>ok</td>\n",
       "    </tr>\n",
       "  </tbody>\n",
       "</table>\n",
       "<p>129 rows × 7 columns</p>\n",
       "</div>"
      ],
      "text/plain": [
       "          AUTHORTWEETID   f            AUTHORID  \\\n",
       "0   1221432958046949120   3           627543473   \n",
       "1   1221434397167099904   7  893519851028959232   \n",
       "2   1221434490595225600  22           529712945   \n",
       "3   1221435456824520704   5          2968249786   \n",
       "4   1221436189842071552   9 1025507290907123456   \n",
       "..                  ...  ..                 ...   \n",
       "124 1221494575619026944   3  957702865874771968   \n",
       "125 1221494763251289856   7 1213253155384782848   \n",
       "126 1221495052507197440  10          1044928850   \n",
       "127 1221495236658114304   1          2333842430   \n",
       "128 1221495639642713856   2           235910137   \n",
       "\n",
       "                                    AUTHORTWEETCONTENT  AUTHORTWEETUNIXEPOCH  \\\n",
       "0    Va te faire foutre, sincèrement.\\nL’Angola est...            1580050884   \n",
       "1    .@gaspardgantzer Merci de rappeler à vos candi...            1580051228   \n",
       "2    Il est plus que nécessaire que les parents bla...            1580051250   \n",
       "3    Merci @WonderSo_  pour cette essentielle mise ...            1580051480   \n",
       "4    Honnêtement ça me tient vraiment à cœur de don...            1580051655   \n",
       "..                                                 ...                   ...   \n",
       "124  Je crois que beaucoup de SJW me détestent en g...            1580065575   \n",
       "125  Harcelez la faf pour qu'il jette cette conasse...            1580065620   \n",
       "126  Le génocide par substitution, crime contre l’h...            1580065689   \n",
       "127  C'est mieux elle reste raciste dans son coin elle            1580065733   \n",
       "128  Déplacer la gare de l’Est ? L’idée fait grince...            1580065829   \n",
       "\n",
       "     BassineID status  \n",
       "0       438903     ok  \n",
       "1       438903     ok  \n",
       "2       438903     ok  \n",
       "3       438903     ok  \n",
       "4       438903     ok  \n",
       "..         ...    ...  \n",
       "124     438907     ok  \n",
       "125     438907     ok  \n",
       "126     438907     ok  \n",
       "127     438907     ok  \n",
       "128     438907     ok  \n",
       "\n",
       "[129 rows x 7 columns]"
      ]
     },
     "execution_count": 46,
     "metadata": {},
     "output_type": "execute_result"
    }
   ],
   "source": [
    "TfidfData"
   ]
  },
  {
   "cell_type": "code",
   "execution_count": null,
   "metadata": {},
   "outputs": [],
   "source": []
  },
  {
   "cell_type": "code",
   "execution_count": null,
   "metadata": {},
   "outputs": [],
   "source": []
  },
  {
   "cell_type": "code",
   "execution_count": null,
   "metadata": {},
   "outputs": [],
   "source": []
  },
  {
   "cell_type": "code",
   "execution_count": 8,
   "metadata": {},
   "outputs": [],
   "source": [
    "def ExtractWindows(datefirst,datelast,WindowSize,StepSize):\n",
    "    \n",
    "    start = datefirst\n",
    "    L = []\n",
    "    \n",
    "    while(True):\n",
    "        end = start+WindowSize\n",
    "        if end>datelast:\n",
    "            break\n",
    "        L.append((start,end))\n",
    "        start = end - (WindowSize - StepSize)\n",
    "\n",
    "    return L"
   ]
  },
  {
   "cell_type": "code",
   "execution_count": null,
   "metadata": {},
   "outputs": [],
   "source": []
  }
 ],
 "metadata": {
  "kernelspec": {
   "display_name": "twitter",
   "language": "python",
   "name": "twitter"
  },
  "language_info": {
   "codemirror_mode": {
    "name": "ipython",
    "version": 3
   },
   "file_extension": ".py",
   "mimetype": "text/x-python",
   "name": "python",
   "nbconvert_exporter": "python",
   "pygments_lexer": "ipython3",
   "version": "3.6.7"
  }
 },
 "nbformat": 4,
 "nbformat_minor": 2
}
