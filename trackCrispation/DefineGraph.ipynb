{
 "cells": [
  {
   "cell_type": "code",
   "execution_count": 51,
   "metadata": {},
   "outputs": [],
   "source": [
    "import pandas as pd\n",
    "import json\n",
    "import pickle\n",
    "import os\n",
    "import itertools\n",
    "from ast import literal_eval\n",
    "import numpy as np\n",
    "import sys\n",
    "from datetime import datetime\n",
    "from IPython.display import clear_output, display\n",
    "import subprocess\n",
    "from datetime import datetime\n",
    "pd.options.display.float_format = '{:.0f}'.format"
   ]
  },
  {
   "cell_type": "code",
   "execution_count": 52,
   "metadata": {},
   "outputs": [],
   "source": [
    "def LoadJsonFile(filename): \n",
    "    with open(filename, 'r') as f:\n",
    "        DicConfig = json.load(f)\n",
    "    return DicConfig\n",
    "\n",
    "\n",
    "def GlobalDicDeplier(OneDic):\n",
    "    for k,v in OneDic.items():\n",
    "        exec('globals()[k] = v')\n",
    "    return None"
   ]
  },
  {
   "cell_type": "code",
   "execution_count": 53,
   "metadata": {},
   "outputs": [
    {
     "name": "stdout",
     "output_type": "stream",
     "text": [
      "Load Config variables\n"
     ]
    }
   ],
   "source": [
    "DicConfig = LoadJsonFile(os.path.join(os.getcwd(),\"config.json\"))\n",
    "GlobalDicDeplier(DicConfig)\n",
    "sys.path.append(Root)\n",
    "from fun import *\n",
    "\n",
    "print(\"Load Config variables\")"
   ]
  },
  {
   "cell_type": "code",
   "execution_count": 54,
   "metadata": {},
   "outputs": [],
   "source": [
    "path = os.path.join(Root,FolderProject,\"RefFam.pkl\")\n",
    "RefFam = LoadPickleOrInit(path)\n",
    "\n",
    "path = os.path.join(Root,FolderProject,\"RefRT.pkl\")\n",
    "RefRT = LoadPickleOrInit(path)\n",
    "\n",
    "tweetsdf = RefFam.copy()[RefFam.status==\"ok\"]\n",
    "rtdf = RefRT.copy()[RefRT.status==\"ok\"]\n",
    "\n",
    "datefirst = rtdf.TWEETUNIXEPOCH.min()\n",
    "datelast = rtdf.TWEETUNIXEPOCH.max()"
   ]
  },
  {
   "cell_type": "markdown",
   "metadata": {},
   "source": [
    "### Define Time Marks"
   ]
  },
  {
   "cell_type": "markdown",
   "metadata": {},
   "source": [
    "Pour une time mark, on doit sortir deux périodes:\n",
    " * La fenetre graph (window size)\n",
    " * La fenêtre tweets (step size)"
   ]
  },
  {
   "cell_type": "code",
   "execution_count": 72,
   "metadata": {},
   "outputs": [],
   "source": []
  },
  {
   "cell_type": "code",
   "execution_count": 73,
   "metadata": {},
   "outputs": [],
   "source": []
  },
  {
   "cell_type": "code",
   "execution_count": 176,
   "metadata": {},
   "outputs": [],
   "source": []
  },
  {
   "cell_type": "code",
   "execution_count": 179,
   "metadata": {},
   "outputs": [],
   "source": [
    "# Build LinksDF from time mark\n",
    "randomtm = TimeMarksList[-1]\n",
    "LinksDic = BuildLinksDocFromTimeMark(randomtm,WindowSize,StepSize,rtdf)"
   ]
  },
  {
   "cell_type": "code",
   "execution_count": 169,
   "metadata": {},
   "outputs": [],
   "source": [
    "# Build Auteur -> tweetsid df from rtdf"
   ]
  },
  {
   "cell_type": "code",
   "execution_count": 172,
   "metadata": {},
   "outputs": [],
   "source": []
  },
  {
   "cell_type": "code",
   "execution_count": 173,
   "metadata": {},
   "outputs": [],
   "source": []
  },
  {
   "cell_type": "code",
   "execution_count": null,
   "metadata": {},
   "outputs": [],
   "source": []
  },
  {
   "cell_type": "code",
   "execution_count": null,
   "metadata": {},
   "outputs": [],
   "source": []
  },
  {
   "cell_type": "code",
   "execution_count": null,
   "metadata": {},
   "outputs": [],
   "source": [
    "def BuildLinksDocFromTimeMark(randomtm,WindowSize,StepSize,rtdf):\n",
    "    periods = ExtractTheTwoPeriods(randomtm,WindowSize,StepSize)\n",
    "    debut,fin = periods[\"GraphWindow\"]\n",
    "    myfilter = (rtdf.TWEETUNIXEPOCH>=debut) & (rtdf.TWEETUNIXEPOCH<=fin)\n",
    "    temprtdf = rtdf.copy()[myfilter]\n",
    "    temprtdf.reset_index(drop=True,inplace=True)\n",
    "    list_of_authors = temprtdf.groupby('USERID')['AUTHORID'].apply(list)\n",
    "    LinksDic = GetLinksFromPeriod(list_of_authors)\n",
    "    return LinksDic"
   ]
  },
  {
   "cell_type": "code",
   "execution_count": 175,
   "metadata": {},
   "outputs": [],
   "source": [
    "def GetLinksFromPeriod(list_of_authors):\n",
    "    \n",
    "    L = []\n",
    "    for SetOfIds in list_of_authors:\n",
    "        if len(SetOfIds)>1:\n",
    "            L = L + ExtractCleanLinksFromSets(SetOfIds)\n",
    "    \n",
    "    linkscompteur = {}\n",
    "    for item in L:\n",
    "        linkscompteur[item[0]] = linkscompteur.get(item[0],0) + item[1]\n",
    "    \n",
    "    return linkscompteur"
   ]
  },
  {
   "cell_type": "code",
   "execution_count": 163,
   "metadata": {},
   "outputs": [],
   "source": [
    "def ExtractCleanLinksFromSets(SetOfIds):\n",
    "    SetOfIds = [int(item) for item in SetOfIds]\n",
    "    RawLinks = ExtractRawLinks(SetOfIds)\n",
    "    CleanLinks = [ExplicitLink(item) for item in RawLinks]\n",
    "    return CleanLinks"
   ]
  },
  {
   "cell_type": "code",
   "execution_count": 138,
   "metadata": {},
   "outputs": [],
   "source": [
    "def ExtractRawLinks(SetOfIds):\n",
    "    \n",
    "    x = np.array(SetOfIds)\n",
    "    comptage = np.unique(x,return_counts=True)\n",
    "    list_of_tuples = np.vstack(comptage).T.tolist()\n",
    "    combinations = list(itertools.combinations(list_of_tuples,2))\n",
    "    \n",
    "    return combinations"
   ]
  },
  {
   "cell_type": "code",
   "execution_count": 153,
   "metadata": {},
   "outputs": [],
   "source": [
    "def ExplicitLink(x):\n",
    "    weight = min([item[1] for item in x])\n",
    "    link = tuple(item[0] for item in x)\n",
    "    return link,weight"
   ]
  },
  {
   "cell_type": "code",
   "execution_count": null,
   "metadata": {},
   "outputs": [],
   "source": [
    "def DefineTimeMarks(lastdate,firstdate,step,window):\n",
    "\n",
    "    mark0 = firstdate + window\n",
    "    start = mark0\n",
    "    L = [start]\n",
    "\n",
    "    while(True):\n",
    "        newmark = start+step\n",
    "        if newmark>lastdate:\n",
    "            break\n",
    "        else:\n",
    "            L.append(newmark)\n",
    "            start=newmark\n",
    "\n",
    "    return L"
   ]
  },
  {
   "cell_type": "code",
   "execution_count": null,
   "metadata": {},
   "outputs": [],
   "source": [
    "def ExtractTheTwoPeriods(timemark,WindowSize,StepSize):\n",
    "    res = {\"GraphWindow\":(timemark-WindowSize,timemark),\n",
    "           \"TweetWindow\":(timemark-StepSize,timemark)}\n",
    "    return res"
   ]
  }
 ],
 "metadata": {
  "kernelspec": {
   "display_name": "twitter",
   "language": "python",
   "name": "twitter"
  },
  "language_info": {
   "codemirror_mode": {
    "name": "ipython",
    "version": 3
   },
   "file_extension": ".py",
   "mimetype": "text/x-python",
   "name": "python",
   "nbconvert_exporter": "python",
   "pygments_lexer": "ipython3",
   "version": "3.6.7"
  }
 },
 "nbformat": 4,
 "nbformat_minor": 2
}
