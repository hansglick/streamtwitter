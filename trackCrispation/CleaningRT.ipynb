{
 "cells": [
  {
   "cell_type": "code",
   "execution_count": 1,
   "metadata": {},
   "outputs": [],
   "source": [
    "import pandas as pd\n",
    "import json\n",
    "import pickle\n",
    "import os\n",
    "import itertools\n",
    "from ast import literal_eval\n",
    "import numpy as np\n",
    "import sys\n",
    "from datetime import datetime\n",
    "from scipy import stats\n",
    "from IPython.display import clear_output, display\n",
    "import subprocess\n",
    "from datetime import datetime\n",
    "pd.options.display.float_format = '{:.0f}'.format"
   ]
  },
  {
   "cell_type": "code",
   "execution_count": 2,
   "metadata": {},
   "outputs": [],
   "source": [
    "def LoadJsonFile(filename): \n",
    "    with open(filename, 'r') as f:\n",
    "        DicConfig = json.load(f)\n",
    "    return DicConfig\n",
    "\n",
    "\n",
    "def GlobalDicDeplier(OneDic):\n",
    "    for k,v in OneDic.items():\n",
    "        exec('globals()[k] = v')\n",
    "    return None"
   ]
  },
  {
   "cell_type": "code",
   "execution_count": 3,
   "metadata": {},
   "outputs": [
    {
     "name": "stdout",
     "output_type": "stream",
     "text": [
      "Load Config variables\n"
     ]
    }
   ],
   "source": [
    "DicConfig = LoadJsonFile(os.path.join(os.getcwd(),\"config.json\"))\n",
    "GlobalDicDeplier(DicConfig)\n",
    "sys.path.append(Root)\n",
    "from fun import *\n",
    "\n",
    "print(\"Load Config variables\")"
   ]
  },
  {
   "cell_type": "code",
   "execution_count": 4,
   "metadata": {},
   "outputs": [],
   "source": [
    "print(\"Loading data ...\")\n",
    "# LOAD DATA\n",
    "path = os.path.join(Root,FolderProject,\"RefRT.pkl\")\n",
    "RefRT = LoadPickleOrInit(path)\n",
    "ListOfTMResults = PickleLoad(os.path.join(Root,FolderProject,\"SequenceOfGraphResults.pkl\"))"
   ]
  },
  {
   "cell_type": "code",
   "execution_count": 5,
   "metadata": {},
   "outputs": [],
   "source": [
    "print(\"Analytics ...\")\n",
    "# ANALYTICS\n",
    "LastTimestamp = max([v[\"TimeMark\"] for k,v in ListOfTMResults.items()])\n",
    "CleanRTDF = RefRT.copy()[RefRT.TWEETUNIXEPOCH>LastTimestamp]"
   ]
  },
  {
   "cell_type": "code",
   "execution_count": 8,
   "metadata": {},
   "outputs": [],
   "source": [
    "print(\"Save new RefRT ...\")\n",
    "# SAVE\n",
    "PickleDump(os.path.join(Root,FolderProject,\"RefRTSaved.pkl\"),CleanRTDF)"
   ]
  },
  {
   "cell_type": "code",
   "execution_count": 9,
   "metadata": {},
   "outputs": [],
   "source": [
    "print(\"Writing Logs ...\")\n",
    "# LOGS\n",
    "LogNoldRTDF = len(RefRT)\n",
    "LogNnewRTDF = len(CleanRTDF)\n",
    "\n",
    "LogFirstDateOld = str(pd.to_datetime(RefRT.TWEETUNIXEPOCH.min(),unit=\"s\"))\n",
    "LogLastDateOld = str(pd.to_datetime(RefRT.TWEETUNIXEPOCH.max(),unit=\"s\"))\n",
    "\n",
    "LogFirstDateNew = str(pd.to_datetime(CleanRTDF.TWEETUNIXEPOCH.min(),unit=\"s\"))\n",
    "LogLastDateNew = str(pd.to_datetime(CleanRTDF.TWEETUNIXEPOCH.max(),unit=\"s\"))\n",
    "\n",
    "log ={\"NoldRTDF\":LogNoldRTDF,\n",
    "      \"NnewRTDF\":LogNnewRTDF,\n",
    "      \"FirstDateOld\":LogFirstDateOld,\n",
    "      \"LastDateOld\":LogLastDateOld,\n",
    "      \"FirstDateNew\":LogFirstDateNew,\n",
    "      \"LastDateNew\":LogLastDateNew}\n",
    "\n",
    "filename = os.path.join(Root,FolderProject,\"Clean.log\")\n",
    "AppendStringToFile(filename,log)"
   ]
  }
 ],
 "metadata": {
  "kernelspec": {
   "display_name": "twitter",
   "language": "python",
   "name": "twitter"
  },
  "language_info": {
   "codemirror_mode": {
    "name": "ipython",
    "version": 3
   },
   "file_extension": ".py",
   "mimetype": "text/x-python",
   "name": "python",
   "nbconvert_exporter": "python",
   "pygments_lexer": "ipython3",
   "version": "3.6.7"
  }
 },
 "nbformat": 4,
 "nbformat_minor": 2
}
